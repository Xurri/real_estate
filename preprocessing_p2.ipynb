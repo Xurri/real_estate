{
 "cells": [
  {
   "cell_type": "code",
   "execution_count": 1,
   "id": "e003f491-ad60-49d6-ab18-3c65f7bf0559",
   "metadata": {},
   "outputs": [],
   "source": [
    "import pandas as pd\n",
    "import numpy as np\n",
    "import matplotlib as mpl\n",
    "import matplotlib.pyplot as plt\n",
    "import seaborn as sns\n",
    "from sklearn.preprocessing import LabelEncoder"
   ]
  },
  {
   "cell_type": "code",
   "execution_count": 2,
   "id": "c7735fa9-80f3-40e6-887c-e0d42598da40",
   "metadata": {},
   "outputs": [],
   "source": [
    "df = pd.read_csv('/home/diana/Загрузки/_data.csv')"
   ]
  },
  {
   "cell_type": "code",
   "execution_count": 3,
   "id": "ee44dff7-c6d3-49ff-be5b-7423cf7e3906",
   "metadata": {},
   "outputs": [
    {
     "data": {
      "text/plain": [
       "Index(['Unnamed: 0', 'ID  объявления', 'Количество комнат', 'Тип', 'Метро',\n",
       "       'Адрес', 'Площадь, м2', 'Дом', 'Парковка', 'Цена', 'Телефоны',\n",
       "       'Описание', 'Ремонт', 'Площадь комнат, м2', 'Балкон', 'Окна', 'Санузел',\n",
       "       'Можно с детьми/животными', 'Дополнительно', 'Название ЖК',\n",
       "       'Серия дома', 'Высота потолков, м', 'Лифт', 'Мусоропровод',\n",
       "       'Ссылка на объявление'],\n",
       "      dtype='object')"
      ]
     },
     "execution_count": 3,
     "metadata": {},
     "output_type": "execute_result"
    }
   ],
   "source": [
    "df.columns"
   ]
  },
  {
   "cell_type": "code",
   "execution_count": 4,
   "id": "b55c8921-be3d-4db8-9f21-b399b9660466",
   "metadata": {},
   "outputs": [],
   "source": [
    "df = df[['ID  объявления', 'Балкон', 'Окна', 'Санузел', 'Можно с детьми/животными', 'Дополнительно', 'Название ЖК', 'Серия дома', 'Высота потолков, м', 'Лифт', 'Мусоропровод', 'Ссылка на объявление']]"
   ]
  },
  {
   "cell_type": "markdown",
   "id": "44c578f7-6c6a-48a7-945a-85125ebf7291",
   "metadata": {},
   "source": [
    "### Замена ru на eng"
   ]
  },
  {
   "cell_type": "code",
   "execution_count": 5,
   "id": "6526b07b-2bb2-4839-b099-202bd98baba3",
   "metadata": {},
   "outputs": [],
   "source": [
    "df = df.rename(columns={'ID  объявления' : 'ad_ID',\n",
    "                        'Балкон' : 'balcony',\n",
    "                        'Окна' : 'windows',\n",
    "                        'Санузел' : 'bathroom',\n",
    "                        'Можно с детьми/животными' : 'with_children/animals',\n",
    "                        'Дополнительно' : 'additionally',\n",
    "                        'Название ЖК' : 'name_of_the_RC',\n",
    "                        'Серия дома' : 'house_series',\n",
    "                        'Высота потолков, м' : 'ceiling_height_m',\n",
    "                        'Лифт' : 'elevator',\n",
    "                        'Мусоропровод' : 'garbage_chute',\n",
    "                        'Ссылка на объявление' : 'link_to_the_ad'})"
   ]
  },
  {
   "cell_type": "markdown",
   "id": "c93ffc9c-b872-486f-a0d5-7a09581f6651",
   "metadata": {},
   "source": [
    "### Убираем NaN во всех objects"
   ]
  },
  {
   "cell_type": "code",
   "execution_count": 6,
   "id": "1ce9f1e9-75cf-4c68-af7a-71e58883dddd",
   "metadata": {},
   "outputs": [],
   "source": [
    "diff_celling_height = df.columns.difference(['ceiling_height_m', 'balcony'])\n",
    "df[diff_celling_height] = df[diff_celling_height].fillna('н/д')"
   ]
  },
  {
   "cell_type": "markdown",
   "id": "203701c6-c804-4e17-b918-b3380c780aa5",
   "metadata": {},
   "source": [
    "### Так как Ceiling_height_m во float. В качестве NaN берем среднее значение"
   ]
  },
  {
   "cell_type": "code",
   "execution_count": 7,
   "id": "cc75b12d-51c7-4623-bf8c-a06d4c7c799e",
   "metadata": {},
   "outputs": [],
   "source": [
    "df['ceiling_height_m'] = df['ceiling_height_m'].fillna(df['ceiling_height_m'].mean())"
   ]
  },
  {
   "cell_type": "code",
   "execution_count": 8,
   "id": "55c3a44a-321f-45c3-afab-7792bb50e849",
   "metadata": {},
   "outputs": [],
   "source": [
    "df['ceiling_height_m'] = df['ceiling_height_m'].round(2)"
   ]
  },
  {
   "cell_type": "code",
   "execution_count": 9,
   "id": "f640199b-f681-41b4-9230-f3a267a6c3a1",
   "metadata": {},
   "outputs": [],
   "source": [
    "df['balcony'] = df['balcony'].fillna('0')"
   ]
  },
  {
   "cell_type": "markdown",
   "id": "6e74c024-2602-4a8f-aee9-7fb904319d77",
   "metadata": {},
   "source": [
    "## Редактируем столбцы для удобства визуализации графиков"
   ]
  },
  {
   "cell_type": "code",
   "execution_count": 10,
   "id": "f1014872-6307-4924-9e8b-9413b0069bc9",
   "metadata": {},
   "outputs": [],
   "source": [
    "df['bathroom'] = df['bathroom'].map(lambda x: x.split()[0])"
   ]
  },
  {
   "cell_type": "code",
   "execution_count": 11,
   "id": "8f056e4a-1073-4703-a603-8333be872cd1",
   "metadata": {},
   "outputs": [],
   "source": [
    "df['balcony'] = df['balcony'].map(lambda x: x.split()[0])"
   ]
  },
  {
   "cell_type": "code",
   "execution_count": 12,
   "id": "d907c32a-9c82-4b5f-b430-908fec81fba1",
   "metadata": {},
   "outputs": [],
   "source": [
    "df.drop('link_to_the_ad', axis=1, inplace=True)"
   ]
  },
  {
   "cell_type": "markdown",
   "id": "f47f5fef-f682-477a-8bc6-fea76fc0e6ea",
   "metadata": {},
   "source": [
    "### Попробуем преобазовать \"Additionally\""
   ]
  },
  {
   "cell_type": "code",
   "execution_count": 13,
   "id": "8f09ca04-1db9-4942-958e-33380fb885dc",
   "metadata": {
    "scrolled": true
   },
   "outputs": [
    {
     "data": {
      "text/plain": [
       "array(['Мебель в комнатах, Мебель на кухне, Ванна, Душевая кабина, Стиральная машина, Кондиционер, Посудомоечная машина, Телевизор, Холодильник, Интернет, Телефон',\n",
       "       'Мебель в комнатах, Мебель на кухне, Ванна, Душевая кабина, Стиральная машина, Кондиционер, Посудомоечная машина, Телевизор, Холодильник, Интернет',\n",
       "       'Мебель в комнатах, Мебель на кухне, Ванна, Душевая кабина, Стиральная машина, Кондиционер, Посудомоечная машина, Телевизор, Холодильник, Интернет, Телефон',\n",
       "       ...,\n",
       "       'Мебель на кухне, Душевая кабина, Стиральная машина, Кондиционер, Холодильник, Интернет',\n",
       "       'Мебель в комнатах, Мебель на кухне, Ванна, Стиральная машина, Кондиционер, Посудомоечная машина, Холодильник',\n",
       "       'Мебель в комнатах, Мебель на кухне, Ванна, Стиральная машина, Кондиционер, Посудомоечная машина, Телевизор, Холодильник, Интернет'],\n",
       "      dtype=object)"
      ]
     },
     "execution_count": 13,
     "metadata": {},
     "output_type": "execute_result"
    }
   ],
   "source": [
    "df['additionally'].values"
   ]
  },
  {
   "cell_type": "code",
   "execution_count": 14,
   "id": "7e9b113f-55c2-4c73-9043-38e819087efd",
   "metadata": {},
   "outputs": [],
   "source": [
    "Often_additionally = ['Мебель в комнатах', 'Мебель на кухне', 'Интернет', 'Телевизор']\n",
    "for furniture in Often_additionally:\n",
    "    df[furniture] = df['additionally'].apply(lambda x: 1 if furniture in x else 0)\n",
    "df.drop('additionally', axis=1, inplace=True)"
   ]
  },
  {
   "cell_type": "markdown",
   "id": "4a02dfcb-5e87-4cb8-8708-e22c6dd765d7",
   "metadata": {},
   "source": [
    "### Преобразуем столбец \"Elevator\""
   ]
  },
  {
   "cell_type": "code",
   "execution_count": 15,
   "id": "f951ad1d-17af-43a0-9334-aae8fb305afa",
   "metadata": {},
   "outputs": [],
   "source": [
    "df['elevator'] = df['elevator'].str.replace(r'[()]', '', regex=True)"
   ]
  },
  {
   "cell_type": "code",
   "execution_count": 16,
   "id": "3586c91c-47d8-43cd-a3fb-1980a2e23d5d",
   "metadata": {},
   "outputs": [],
   "source": [
    "df['elevator'] = df['elevator'].str.replace(r'\\d+', '', regex=True)"
   ]
  },
  {
   "cell_type": "code",
   "execution_count": 17,
   "id": "cc3b985c-bf6b-4a5a-adc7-782d0fba1f8a",
   "metadata": {},
   "outputs": [],
   "source": [
    "df['elevator'] = df['elevator'].str.replace(r' ', '', regex=True)"
   ]
  },
  {
   "cell_type": "code",
   "execution_count": 18,
   "id": "99fb7a21-9721-4faa-9338-269c46f3b576",
   "metadata": {},
   "outputs": [],
   "source": [
    "df['name_of_the_RC'] = df['name_of_the_RC'].str.replace(r'\\d+', '', regex=True)\n",
    "df['name_of_the_RC'] = df['name_of_the_RC'].str.replace(',', '', regex=True)"
   ]
  },
  {
   "cell_type": "markdown",
   "id": "847dd88b-f07d-4a05-970c-4ee4892708dd",
   "metadata": {},
   "source": [
    "### Изменение названий столбцов в новых столбцах"
   ]
  },
  {
   "cell_type": "code",
   "execution_count": 19,
   "id": "44c9a5a6-a612-4f5e-acc3-8e77cb136926",
   "metadata": {},
   "outputs": [],
   "source": [
    "df = df.rename(columns={'Мебель в комнатах' : 'furniture_rooms',\n",
    "                   'Мебель на кухне' : 'furniture_kitchen',\n",
    "                   'Интернет' : 'the_internet',\n",
    "                   'Телевизор' : 'tv'})"
   ]
  },
  {
   "cell_type": "code",
   "execution_count": 23,
   "id": "4b1d81c2-68f6-492b-83df-745749e25b1b",
   "metadata": {},
   "outputs": [],
   "source": [
    "df.to_csv('data_p2.csv', sep='\\t')"
   ]
  },
  {
   "cell_type": "code",
   "execution_count": null,
   "id": "1ff2b9f0-859e-4d25-a731-a24c1aec9ef4",
   "metadata": {},
   "outputs": [],
   "source": []
  }
 ],
 "metadata": {
  "kernelspec": {
   "display_name": "Python 3 (ipykernel)",
   "language": "python",
   "name": "python3"
  },
  "language_info": {
   "codemirror_mode": {
    "name": "ipython",
    "version": 3
   },
   "file_extension": ".py",
   "mimetype": "text/x-python",
   "name": "python",
   "nbconvert_exporter": "python",
   "pygments_lexer": "ipython3",
   "version": "3.10.14"
  }
 },
 "nbformat": 4,
 "nbformat_minor": 5
}
