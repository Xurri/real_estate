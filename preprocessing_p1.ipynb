{
 "cells": [
  {
   "cell_type": "markdown",
   "id": "f3e52b72-5617-4b5e-a270-b1fc57570df7",
   "metadata": {},
   "source": [
    "# Подготовка данных по недвижимости. Релиз 2"
   ]
  },
  {
   "cell_type": "markdown",
   "id": "9988c661-8ed3-41bf-9171-3995324c4747",
   "metadata": {},
   "source": [
    "Задача этапа: закоммитить результаты очистки данных от пропусков.\n",
    "\n",
    "состав репозитория дополняется:\n",
    "preprocessing.ipynb - jupyter notebook файл, где показан процесс обработки данных\n",
    "data.csv - отвечающий критериям:\n",
    "названия колонок на английском языке в одно/несколько слов с нижним подчёркиванием\n",
    "в каждой колонке должны отсутствовать пропущенные значения (NaN, None и т.д.)"
   ]
  },
  {
   "cell_type": "code",
   "execution_count": 1,
   "id": "3104db30-818e-4b7c-8797-955fdb61cc20",
   "metadata": {},
   "outputs": [],
   "source": [
    "import pandas as pd\n",
    "import matplotlib.pyplot as plt\n",
    "import seaborn as sns"
   ]
  },
  {
   "cell_type": "markdown",
   "id": "000c1988-59ba-43ba-b381-0493023352b6",
   "metadata": {},
   "source": [
    "Рассмотрим датасет"
   ]
  },
  {
   "cell_type": "code",
   "execution_count": 2,
   "id": "49eded73-0217-40a1-9f7e-4d610c3584be",
   "metadata": {},
   "outputs": [
    {
     "data": {
      "text/html": [
       "<div>\n",
       "<style scoped>\n",
       "    .dataframe tbody tr th:only-of-type {\n",
       "        vertical-align: middle;\n",
       "    }\n",
       "\n",
       "    .dataframe tbody tr th {\n",
       "        vertical-align: top;\n",
       "    }\n",
       "\n",
       "    .dataframe thead th {\n",
       "        text-align: right;\n",
       "    }\n",
       "</style>\n",
       "<table border=\"1\" class=\"dataframe\">\n",
       "  <thead>\n",
       "    <tr style=\"text-align: right;\">\n",
       "      <th></th>\n",
       "      <th>Unnamed: 0</th>\n",
       "      <th>ID  объявления</th>\n",
       "      <th>Количество комнат</th>\n",
       "      <th>Тип</th>\n",
       "      <th>Метро</th>\n",
       "      <th>Адрес</th>\n",
       "      <th>Площадь, м2</th>\n",
       "      <th>Дом</th>\n",
       "      <th>Парковка</th>\n",
       "      <th>Цена</th>\n",
       "      <th>...</th>\n",
       "      <th>Окна</th>\n",
       "      <th>Санузел</th>\n",
       "      <th>Можно с детьми/животными</th>\n",
       "      <th>Дополнительно</th>\n",
       "      <th>Название ЖК</th>\n",
       "      <th>Серия дома</th>\n",
       "      <th>Высота потолков, м</th>\n",
       "      <th>Лифт</th>\n",
       "      <th>Мусоропровод</th>\n",
       "      <th>Ссылка на объявление</th>\n",
       "    </tr>\n",
       "  </thead>\n",
       "  <tbody>\n",
       "    <tr>\n",
       "      <th>0</th>\n",
       "      <td>0</td>\n",
       "      <td>271271157</td>\n",
       "      <td>4</td>\n",
       "      <td>Квартира</td>\n",
       "      <td>м. Смоленская (9 мин пешком)</td>\n",
       "      <td>Москва, улица Новый Арбат, 27</td>\n",
       "      <td>200.0/20.0</td>\n",
       "      <td>5/16, Монолитный</td>\n",
       "      <td>подземная</td>\n",
       "      <td>500000.0 руб./ За месяц, Залог - 500000 руб., ...</td>\n",
       "      <td>...</td>\n",
       "      <td>NaN</td>\n",
       "      <td>NaN</td>\n",
       "      <td>Можно с детьми, Можно с животными</td>\n",
       "      <td>Мебель в комнатах, Мебель на кухне, Ванна, Душ...</td>\n",
       "      <td>Новый Арбат, 2010</td>\n",
       "      <td>NaN</td>\n",
       "      <td>3.0</td>\n",
       "      <td>Пасс (4), Груз (1)</td>\n",
       "      <td>Да</td>\n",
       "      <td>https://www.cian.ru/rent/flat/271271157</td>\n",
       "    </tr>\n",
       "    <tr>\n",
       "      <th>1</th>\n",
       "      <td>1</td>\n",
       "      <td>271634126</td>\n",
       "      <td>4</td>\n",
       "      <td>Квартира</td>\n",
       "      <td>м. Смоленская (8 мин пешком)</td>\n",
       "      <td>Москва, улица Новый Арбат, 27</td>\n",
       "      <td>198.0/95.0/18.0</td>\n",
       "      <td>5/16, Монолитно-кирпичный</td>\n",
       "      <td>подземная</td>\n",
       "      <td>500000.0 руб./ За месяц, Залог - 500000 руб., ...</td>\n",
       "      <td>...</td>\n",
       "      <td>На улицу и двор</td>\n",
       "      <td>Совмещенный (2), Раздельный (1)</td>\n",
       "      <td>Можно с детьми</td>\n",
       "      <td>Мебель в комнатах, Мебель на кухне, Ванна, Душ...</td>\n",
       "      <td>Новый Арбат</td>\n",
       "      <td>NaN</td>\n",
       "      <td>3.5</td>\n",
       "      <td>Пасс (1), Груз (1)</td>\n",
       "      <td>Нет</td>\n",
       "      <td>https://www.cian.ru/rent/flat/271634126</td>\n",
       "    </tr>\n",
       "    <tr>\n",
       "      <th>2</th>\n",
       "      <td>2</td>\n",
       "      <td>271173086</td>\n",
       "      <td>4, Оба варианта</td>\n",
       "      <td>Квартира</td>\n",
       "      <td>м. Смоленская (7 мин пешком)</td>\n",
       "      <td>Москва, улица Новый Арбат, 27</td>\n",
       "      <td>200.0/116.0/4.0</td>\n",
       "      <td>5/16</td>\n",
       "      <td>подземная</td>\n",
       "      <td>500000.0 руб./ За месяц, Залог - 500000 руб., ...</td>\n",
       "      <td>...</td>\n",
       "      <td>На улицу и двор</td>\n",
       "      <td>Совмещенный (3)</td>\n",
       "      <td>Можно с детьми</td>\n",
       "      <td>Мебель в комнатах, Мебель на кухне, Ванна, Душ...</td>\n",
       "      <td>Новый Арбат</td>\n",
       "      <td>NaN</td>\n",
       "      <td>3.2</td>\n",
       "      <td>Пасс (1)</td>\n",
       "      <td>NaN</td>\n",
       "      <td>https://www.cian.ru/rent/flat/271173086</td>\n",
       "    </tr>\n",
       "    <tr>\n",
       "      <th>3</th>\n",
       "      <td>3</td>\n",
       "      <td>272197456</td>\n",
       "      <td>4, Оба варианта</td>\n",
       "      <td>Квартира</td>\n",
       "      <td>м. Смоленская (3 мин пешком)</td>\n",
       "      <td>Москва, переулок Плотников, 21С1</td>\n",
       "      <td>170.0/95.0/17.0</td>\n",
       "      <td>5/6</td>\n",
       "      <td>подземная</td>\n",
       "      <td>400000.0 руб./ За месяц, Залог - 400000 руб., ...</td>\n",
       "      <td>...</td>\n",
       "      <td>На улицу и двор</td>\n",
       "      <td>Совмещенный (3)</td>\n",
       "      <td>Можно с животными</td>\n",
       "      <td>Мебель в комнатах, Мебель на кухне, Ванна, Душ...</td>\n",
       "      <td>NaN</td>\n",
       "      <td>NaN</td>\n",
       "      <td>3.2</td>\n",
       "      <td>Пасс (1)</td>\n",
       "      <td>NaN</td>\n",
       "      <td>https://www.cian.ru/rent/flat/272197456</td>\n",
       "    </tr>\n",
       "    <tr>\n",
       "      <th>4</th>\n",
       "      <td>4</td>\n",
       "      <td>273614615</td>\n",
       "      <td>2</td>\n",
       "      <td>Квартира</td>\n",
       "      <td>м. Арбатская (7 мин пешком)</td>\n",
       "      <td>Москва, улица Новый Арбат, 15</td>\n",
       "      <td>58.0/38.0/5.0</td>\n",
       "      <td>12/26, Панельный</td>\n",
       "      <td>NaN</td>\n",
       "      <td>225000.0 руб./ За месяц, Залог - 225000 руб., ...</td>\n",
       "      <td>...</td>\n",
       "      <td>На улицу и двор</td>\n",
       "      <td>Совмещенный (2)</td>\n",
       "      <td>NaN</td>\n",
       "      <td>Мебель в комнатах, Мебель на кухне, Ванна, Душ...</td>\n",
       "      <td>The Book</td>\n",
       "      <td>NaN</td>\n",
       "      <td>3.9</td>\n",
       "      <td>Пасс (1), Груз (1)</td>\n",
       "      <td>Да</td>\n",
       "      <td>https://www.cian.ru/rent/flat/273614615</td>\n",
       "    </tr>\n",
       "  </tbody>\n",
       "</table>\n",
       "<p>5 rows × 25 columns</p>\n",
       "</div>"
      ],
      "text/plain": [
       "   Unnamed: 0  ID  объявления Количество комнат       Тип  \\\n",
       "0           0       271271157                 4  Квартира   \n",
       "1           1       271634126                 4  Квартира   \n",
       "2           2       271173086   4, Оба варианта  Квартира   \n",
       "3           3       272197456   4, Оба варианта  Квартира   \n",
       "4           4       273614615                 2  Квартира   \n",
       "\n",
       "                          Метро                             Адрес  \\\n",
       "0  м. Смоленская (9 мин пешком)     Москва, улица Новый Арбат, 27   \n",
       "1  м. Смоленская (8 мин пешком)     Москва, улица Новый Арбат, 27   \n",
       "2  м. Смоленская (7 мин пешком)     Москва, улица Новый Арбат, 27   \n",
       "3  м. Смоленская (3 мин пешком)  Москва, переулок Плотников, 21С1   \n",
       "4   м. Арбатская (7 мин пешком)     Москва, улица Новый Арбат, 15   \n",
       "\n",
       "       Площадь, м2                        Дом   Парковка  \\\n",
       "0       200.0/20.0           5/16, Монолитный  подземная   \n",
       "1  198.0/95.0/18.0  5/16, Монолитно-кирпичный  подземная   \n",
       "2  200.0/116.0/4.0                       5/16  подземная   \n",
       "3  170.0/95.0/17.0                        5/6  подземная   \n",
       "4    58.0/38.0/5.0           12/26, Панельный        NaN   \n",
       "\n",
       "                                                Цена  ...             Окна  \\\n",
       "0  500000.0 руб./ За месяц, Залог - 500000 руб., ...  ...              NaN   \n",
       "1  500000.0 руб./ За месяц, Залог - 500000 руб., ...  ...  На улицу и двор   \n",
       "2  500000.0 руб./ За месяц, Залог - 500000 руб., ...  ...  На улицу и двор   \n",
       "3  400000.0 руб./ За месяц, Залог - 400000 руб., ...  ...  На улицу и двор   \n",
       "4  225000.0 руб./ За месяц, Залог - 225000 руб., ...  ...  На улицу и двор   \n",
       "\n",
       "                           Санузел           Можно с детьми/животными  \\\n",
       "0                              NaN  Можно с детьми, Можно с животными   \n",
       "1  Совмещенный (2), Раздельный (1)                     Можно с детьми   \n",
       "2                  Совмещенный (3)                     Можно с детьми   \n",
       "3                  Совмещенный (3)                  Можно с животными   \n",
       "4                  Совмещенный (2)                                NaN   \n",
       "\n",
       "                                       Дополнительно        Название ЖК  \\\n",
       "0  Мебель в комнатах, Мебель на кухне, Ванна, Душ...  Новый Арбат, 2010   \n",
       "1  Мебель в комнатах, Мебель на кухне, Ванна, Душ...        Новый Арбат   \n",
       "2  Мебель в комнатах, Мебель на кухне, Ванна, Душ...        Новый Арбат   \n",
       "3  Мебель в комнатах, Мебель на кухне, Ванна, Душ...                NaN   \n",
       "4  Мебель в комнатах, Мебель на кухне, Ванна, Душ...           The Book   \n",
       "\n",
       "  Серия дома Высота потолков, м                Лифт Мусоропровод  \\\n",
       "0        NaN                3.0  Пасс (4), Груз (1)           Да   \n",
       "1        NaN                3.5  Пасс (1), Груз (1)          Нет   \n",
       "2        NaN                3.2            Пасс (1)          NaN   \n",
       "3        NaN                3.2            Пасс (1)          NaN   \n",
       "4        NaN                3.9  Пасс (1), Груз (1)           Да   \n",
       "\n",
       "                      Ссылка на объявление  \n",
       "0  https://www.cian.ru/rent/flat/271271157  \n",
       "1  https://www.cian.ru/rent/flat/271634126  \n",
       "2  https://www.cian.ru/rent/flat/271173086  \n",
       "3  https://www.cian.ru/rent/flat/272197456  \n",
       "4  https://www.cian.ru/rent/flat/273614615  \n",
       "\n",
       "[5 rows x 25 columns]"
      ]
     },
     "execution_count": 2,
     "metadata": {},
     "output_type": "execute_result"
    }
   ],
   "source": [
    "df = pd.read_csv('/home/user/ds_bootcamp/real_estate/_data.csv')\n",
    "df.head()"
   ]
  },
  {
   "cell_type": "code",
   "execution_count": 3,
   "id": "f770e189-7fdc-4867-bb3a-3e300dfce2ed",
   "metadata": {},
   "outputs": [
    {
     "data": {
      "text/plain": [
       "Index(['Unnamed: 0', 'ID  объявления', 'Количество комнат', 'Тип', 'Метро',\n",
       "       'Адрес', 'Площадь, м2', 'Дом', 'Парковка', 'Цена', 'Телефоны',\n",
       "       'Описание', 'Ремонт', 'Площадь комнат, м2', 'Балкон', 'Окна', 'Санузел',\n",
       "       'Можно с детьми/животными', 'Дополнительно', 'Название ЖК',\n",
       "       'Серия дома', 'Высота потолков, м', 'Лифт', 'Мусоропровод',\n",
       "       'Ссылка на объявление'],\n",
       "      dtype='object')"
      ]
     },
     "execution_count": 3,
     "metadata": {},
     "output_type": "execute_result"
    }
   ],
   "source": [
    "df.columns"
   ]
  },
  {
   "cell_type": "code",
   "execution_count": 4,
   "id": "a511ab01-7471-48b6-8112-490b7da7a6cf",
   "metadata": {},
   "outputs": [],
   "source": [
    "df = df[\n",
    "       ['Unnamed: 0', 'ID  объявления', 'Количество комнат', 'Тип', 'Метро',\n",
    "       'Адрес', 'Площадь, м2', 'Дом', 'Парковка', 'Цена', 'Телефоны',\n",
    "       'Описание', 'Ремонт', 'Площадь комнат, м2']\n",
    "     ] # Делим таблицу на две части для работы по столбцам"
   ]
  },
  {
   "cell_type": "markdown",
   "id": "ac6a2489-b44e-4494-88e7-bb2467bf17f7",
   "metadata": {},
   "source": [
    "## Обрабатываем данные по признакам"
   ]
  },
  {
   "cell_type": "markdown",
   "id": "1aaed714-77a5-4c63-ac15-7c0f24083467",
   "metadata": {},
   "source": [
    "### Unnamed: 0"
   ]
  },
  {
   "cell_type": "markdown",
   "id": "51161a18-f2e6-41d8-a17e-ecb4707a6824",
   "metadata": {},
   "source": [
    "Удаляем столбец."
   ]
  },
  {
   "cell_type": "code",
   "execution_count": 5,
   "id": "c361204b-8a4e-46a4-a44f-96441788a678",
   "metadata": {},
   "outputs": [],
   "source": [
    "df = df.drop('Unnamed: 0', axis=1)"
   ]
  },
  {
   "cell_type": "markdown",
   "id": "ba3dabfd-a225-44f6-93a2-733e0d1946ff",
   "metadata": {},
   "source": [
    "### Комнаты"
   ]
  },
  {
   "cell_type": "markdown",
   "id": "2f001fb8-501f-45df-9ca3-1a612ee98552",
   "metadata": {},
   "source": [
    "Комнаты - параметр, значительно влияющий на цену. Выводить значения в пропусках некорректно. Удалим пропуски "
   ]
  },
  {
   "cell_type": "code",
   "execution_count": 6,
   "id": "c1e7bd33-59e8-4e32-b1e9-c21346e52b58",
   "metadata": {},
   "outputs": [],
   "source": [
    "df.dropna(subset=['Количество комнат'], inplace=True)"
   ]
  },
  {
   "cell_type": "markdown",
   "id": "8f41e178-234a-4548-b352-cb4d98627c3b",
   "metadata": {},
   "source": [
    "Преобразуем значения к числовому виду"
   ]
  },
  {
   "cell_type": "code",
   "execution_count": 7,
   "id": "707dca7d-3919-43b3-96b6-90153ecfb9eb",
   "metadata": {},
   "outputs": [],
   "source": [
    "df['Количество комнат'] = df['Количество комнат'].map(lambda x: int(x.split(', ')[0]))"
   ]
  },
  {
   "cell_type": "markdown",
   "id": "dd948b80-2908-48f2-935b-0ae54e7da694",
   "metadata": {},
   "source": [
    "### Тип"
   ]
  },
  {
   "cell_type": "markdown",
   "id": "023b052e-fc13-4e93-af69-17b3d0328c54",
   "metadata": {},
   "source": [
    "Удаляем признак, т.к. одинаковые значения 'Квартира'"
   ]
  },
  {
   "cell_type": "code",
   "execution_count": 8,
   "id": "d02100d2-709f-428d-85eb-e310353523c3",
   "metadata": {},
   "outputs": [],
   "source": [
    "df = df.drop('Тип', axis=1)"
   ]
  },
  {
   "cell_type": "markdown",
   "id": "b2b82110-5f4b-4d89-9670-d5dae8033a9a",
   "metadata": {},
   "source": [
    "Поскольку один тип значений - он не повлияет на модель, но может усложнить расчет, признак к удалению."
   ]
  },
  {
   "cell_type": "markdown",
   "id": "dd2d3ff9-1663-4fc9-96ef-5f40724ea69a",
   "metadata": {},
   "source": [
    "### Метро"
   ]
  },
  {
   "cell_type": "markdown",
   "id": "d4653a5f-c641-4492-aec4-99609a42c041",
   "metadata": {},
   "source": [
    "Удаляем строки с пропусками по значению метро. Заменить не сможем."
   ]
  },
  {
   "cell_type": "code",
   "execution_count": 9,
   "id": "9a25472d-1e9c-47c5-84f2-ff0747894c5b",
   "metadata": {},
   "outputs": [],
   "source": [
    "df.dropna(subset=['Метро'], inplace=True)"
   ]
  },
  {
   "cell_type": "code",
   "execution_count": 10,
   "id": "b8b16693-4df7-45ef-b610-579bdf0da16f",
   "metadata": {},
   "outputs": [
    {
     "data": {
      "text/plain": [
       "array(['м. Смоленская (9 мин пешком)', 'м. Смоленская (8 мин пешком)',\n",
       "       'м. Смоленская (7 мин пешком)', ..., 'м. Солнцево (16 мин пешком)',\n",
       "       'м. Боровское шоссе (5 мин на машине)',\n",
       "       'м. Солнцево (5 мин на машине)'], dtype=object)"
      ]
     },
     "execution_count": 10,
     "metadata": {},
     "output_type": "execute_result"
    }
   ],
   "source": [
    "df['Метро'].unique()"
   ]
  },
  {
   "cell_type": "markdown",
   "id": "a244ddd2-f324-433b-a2a5-18308b697fd8",
   "metadata": {},
   "source": [
    "Выделим отдельно 'метро': 'Смоленская'"
   ]
  },
  {
   "cell_type": "code",
   "execution_count": 11,
   "id": "d957e144-433a-41f4-8cca-7d58d63aa680",
   "metadata": {},
   "outputs": [],
   "source": [
    "df['метро'] = df['Метро'].map(lambda x: x.split()[1])"
   ]
  },
  {
   "cell_type": "code",
   "execution_count": 12,
   "id": "50b998ff-2889-485d-8840-06289562f894",
   "metadata": {},
   "outputs": [],
   "source": [
    "df = df[df['Метро'].map(lambda x: x[x.index('('):].split()[0][1:]) != 'None'] # удалим строки, в которых None по времени до метро\n",
    "df['Время до метро'] = df['Метро'].map(lambda x: x[x.index('('):].split()[0][1:]) # время до метро влияет на цену"
   ]
  },
  {
   "cell_type": "code",
   "execution_count": 13,
   "id": "57937812-6cc2-4462-8862-a99a38dc7d8d",
   "metadata": {},
   "outputs": [],
   "source": [
    "df['Расчет времени пешком'] = df['Метро'].map(lambda x: x.split()[-1][-7:-1]=='пешком') #важно, как посчитано время до метро"
   ]
  },
  {
   "cell_type": "code",
   "execution_count": 14,
   "id": "29ae1666-d8ee-4445-a77e-831efcbe8896",
   "metadata": {},
   "outputs": [],
   "source": [
    "df = df.drop('Метро', axis=1) #удаляем исходный столбец про метро"
   ]
  },
  {
   "cell_type": "code",
   "execution_count": 15,
   "id": "a38c14d7-f2e0-4109-9b2c-04c854f9d36a",
   "metadata": {},
   "outputs": [
    {
     "data": {
      "text/plain": [
       "20193"
      ]
     },
     "execution_count": 15,
     "metadata": {},
     "output_type": "execute_result"
    }
   ],
   "source": [
    "len(df) #проверяем, сколько мы отсесяли строк. отсесяли 3 тысячи из 23. Считаем это необходимым для качественной работы модели."
   ]
  },
  {
   "cell_type": "markdown",
   "id": "9bf025e3-e578-4bef-a741-f9fb4097b708",
   "metadata": {},
   "source": [
    "### Адрес"
   ]
  },
  {
   "cell_type": "code",
   "execution_count": 16,
   "id": "4518732e-5bf6-41d1-b054-9992fafefd6c",
   "metadata": {},
   "outputs": [
    {
     "data": {
      "text/plain": [
       "array(['Москва, улица Новый Арбат, 27',\n",
       "       'Москва, переулок Плотников, 21С1',\n",
       "       'Москва, улица Новый Арбат, 15', ...,\n",
       "       'Москва, Боровский проезд, 11',\n",
       "       'Москва, улица Богданова, 6к1, ш. Боровское (3 км до МКАД), ш. Сколковское (8 км до МКАД)',\n",
       "       'Москва, улица Богданова, 2к1, ш. Боровское (3 км до МКАД), ш. Киевское (8 км до МКАД)'],\n",
       "      dtype=object)"
      ]
     },
     "execution_count": 16,
     "metadata": {},
     "output_type": "execute_result"
    }
   ],
   "source": [
    "df['Адрес'].unique() # Рассмотрим вид адреса"
   ]
  },
  {
   "cell_type": "markdown",
   "id": "a1deecaa-4975-4931-a920-fbf73d5c7f95",
   "metadata": {},
   "source": [
    "Убираем Москву, т.к. весь датасет по Москве."
   ]
  },
  {
   "cell_type": "code",
   "execution_count": 17,
   "id": "65434ab5-3a2b-4973-ad4e-64497a947577",
   "metadata": {},
   "outputs": [],
   "source": [
    "df['Адрес'] = df['Адрес'].map(lambda x: x[8:])"
   ]
  },
  {
   "cell_type": "markdown",
   "id": "6622ed27-b329-4d11-a128-9ec58231f25a",
   "metadata": {},
   "source": [
    "### Площадь"
   ]
  },
  {
   "cell_type": "code",
   "execution_count": 18,
   "id": "db6e87ea-34bb-4410-9c41-0c85b41a9585",
   "metadata": {},
   "outputs": [
    {
     "data": {
      "text/plain": [
       "array(['200.0/20.0', '198.0/95.0/18.0', '200.0/116.0/4.0', ..., '43.1',\n",
       "       '52.5/10.0', '90.0/48.2/15.5'], dtype=object)"
      ]
     },
     "execution_count": 18,
     "metadata": {},
     "output_type": "execute_result"
    }
   ],
   "source": [
    "df['Площадь, м2'].unique()"
   ]
  },
  {
   "cell_type": "markdown",
   "id": "107591e9-0ca2-41a0-9903-66420dca8d14",
   "metadata": {},
   "source": [
    "Нужно убрать лишние данные, оставить только общую площадь, преобразовать в тип данных float"
   ]
  },
  {
   "cell_type": "code",
   "execution_count": 19,
   "id": "58ce89b1-40d7-4ebf-93f5-ed9b80679e3e",
   "metadata": {},
   "outputs": [],
   "source": [
    "df['Площадь, м2'] = df['Площадь, м2'].map(lambda x: float(x.split('/')[0]))"
   ]
  },
  {
   "cell_type": "markdown",
   "id": "b36ee1b9-660d-43b4-9ad5-73358cfc2da0",
   "metadata": {},
   "source": [
    "### Дом"
   ]
  },
  {
   "cell_type": "code",
   "execution_count": 20,
   "id": "bb5d4b92-4d34-46f0-b251-01f55a8cae37",
   "metadata": {},
   "outputs": [
    {
     "data": {
      "text/plain": [
       "array(['5/16, Монолитный', '5/16, Монолитно-кирпичный', '5/16', ...,\n",
       "       '12/23, Панельный', '12/25, Блочный', '2/2, Блочный'], dtype=object)"
      ]
     },
     "execution_count": 20,
     "metadata": {},
     "output_type": "execute_result"
    }
   ],
   "source": [
    "df['Дом'].unique()"
   ]
  },
  {
   "cell_type": "code",
   "execution_count": 21,
   "id": "ae5a1da8-e246-4898-b171-4ff9c5f8f49c",
   "metadata": {},
   "outputs": [],
   "source": [
    "df['Этаж'] = df['Дом'].map(lambda x: int((x.split(', ')[0]).split('/')[0]))\n",
    "df['Этажность'] = df['Дом'].map(lambda x: int((x.split(', ')[0]).split('/')[1]))\n",
    "df['Тип дома'] = df['Дом'].map(lambda x: x.split(', ')[-1] if len(x.split(', '))> 1 else 'н/д')"
   ]
  },
  {
   "cell_type": "code",
   "execution_count": 22,
   "id": "a32af190-9d49-44ca-9952-a195abd836c1",
   "metadata": {},
   "outputs": [],
   "source": [
    "df = df.drop('Дом', axis=1)"
   ]
  },
  {
   "cell_type": "markdown",
   "id": "37103450-2f6b-4dde-992b-59c9404bbc4c",
   "metadata": {},
   "source": [
    "### Парковка"
   ]
  },
  {
   "cell_type": "code",
   "execution_count": 23,
   "id": "8888fa1e-749b-42db-8b6c-f4d9707782b1",
   "metadata": {},
   "outputs": [
    {
     "data": {
      "text/plain": [
       "array(['подземная', nan, 'наземная', 'открытая', 'многоуровневая',\n",
       "       'на крыше'], dtype=object)"
      ]
     },
     "execution_count": 23,
     "metadata": {},
     "output_type": "execute_result"
    }
   ],
   "source": [
    "df['Парковка'].unique()"
   ]
  },
  {
   "cell_type": "markdown",
   "id": "7d522e50-583f-4fc7-9dbd-0a7e41338066",
   "metadata": {},
   "source": [
    "Заполним данные по пропускам - предполагаем, что там нет парковки. Варианта \"нет\" нет в значениях, значит скорее всего это он."
   ]
  },
  {
   "cell_type": "code",
   "execution_count": 24,
   "id": "a1eb1e52-924c-41b4-8ca7-0ff03d6b7971",
   "metadata": {},
   "outputs": [],
   "source": [
    "df['Парковка'] = df['Парковка'].fillna('нет')"
   ]
  },
  {
   "cell_type": "markdown",
   "id": "58cb3236-b718-40c4-ab9e-cbb63ca88575",
   "metadata": {},
   "source": [
    "### Цена"
   ]
  },
  {
   "cell_type": "code",
   "execution_count": 25,
   "id": "fd66a86c-6b04-44c8-88eb-0bfb6b253681",
   "metadata": {},
   "outputs": [
    {
     "data": {
      "text/plain": [
       "array(['500000.0 руб./ За месяц, Залог - 500000 руб., Коммунальные услуги включены, Срок аренды - Длительный, Предоплата 1 мес',\n",
       "       '500000.0 руб./ За месяц, Залог - 500000 руб., Срок аренды - Длительный, Предоплата 1 мес',\n",
       "       '400000.0 руб./ За месяц, Залог - 400000 руб., Срок аренды - Длительный, Предоплата 1 мес',\n",
       "       ...,\n",
       "       '25000.0 руб./ За месяц, Залог - 12000 руб., Коммунальные услуги включены, Срок аренды - Длительный, Предоплата 1 мес',\n",
       "       '48000.0 руб./ За месяц, Залог - 40000 руб., Коммунальные услуги включены, Срок аренды - На несколько месяцев, Предоплата 1 мес',\n",
       "       '55000.0 руб./ За месяц, Залог - 50000 руб., Коммунальные услуги включены, Срок аренды - Длительный, Предоплата 2 мес'],\n",
       "      dtype=object)"
      ]
     },
     "execution_count": 25,
     "metadata": {},
     "output_type": "execute_result"
    }
   ],
   "source": [
    "df['Цена'].unique()"
   ]
  },
  {
   "cell_type": "code",
   "execution_count": 26,
   "id": "241e8c51-f4b1-4d18-a274-816ab6492af5",
   "metadata": {},
   "outputs": [],
   "source": [
    "df['Цена'] = df['Цена'].map(lambda x: float(x.split()[0]))"
   ]
  },
  {
   "cell_type": "markdown",
   "id": "4be44af7-6dd8-4439-ad02-1f532a882973",
   "metadata": {},
   "source": [
    "Поскольку поле цены заполнено неоднородно и целевой признак именно цена, оставим только его"
   ]
  },
  {
   "cell_type": "markdown",
   "id": "b0d44efc-a0db-4241-8e78-09794cf1ddfd",
   "metadata": {},
   "source": [
    "### Телефоны"
   ]
  },
  {
   "cell_type": "code",
   "execution_count": 27,
   "id": "10572eae-99c0-42cd-a5ff-7011522571cf",
   "metadata": {},
   "outputs": [],
   "source": [
    "df = df.drop('Телефоны', axis=1)"
   ]
  },
  {
   "cell_type": "markdown",
   "id": "c7f217e1-578e-4330-b347-8e8a69d55ffb",
   "metadata": {},
   "source": [
    "Номера телефонов не будут влиять на качество модели. К удалению."
   ]
  },
  {
   "cell_type": "markdown",
   "id": "a1939dd7-dd69-4648-a70b-927a3c5fb7d0",
   "metadata": {},
   "source": [
    "### Описание"
   ]
  },
  {
   "cell_type": "markdown",
   "id": "36eb0b7f-59b7-4843-9347-3fa2e6b3a9a3",
   "metadata": {},
   "source": [
    "Поскольку наша модель не будет работать на основании сложной обработки текста, удаляем этот столбец."
   ]
  },
  {
   "cell_type": "code",
   "execution_count": 29,
   "id": "ed09c86c-6a85-4913-80f7-d564a6743ab0",
   "metadata": {},
   "outputs": [],
   "source": [
    "df = df.drop('Описание', axis=1)"
   ]
  },
  {
   "cell_type": "markdown",
   "id": "cc1af71c-9282-4347-ba35-54bc71c02b8c",
   "metadata": {},
   "source": [
    "### Ремонт"
   ]
  },
  {
   "cell_type": "code",
   "execution_count": 30,
   "id": "69706c89-0b23-489f-a937-02fc88650779",
   "metadata": {},
   "outputs": [
    {
     "data": {
      "text/plain": [
       "array(['Дизайнерский', 'Евроремонт', 'Косметический', nan, 'Без ремонта'],\n",
       "      dtype=object)"
      ]
     },
     "execution_count": 30,
     "metadata": {},
     "output_type": "execute_result"
    }
   ],
   "source": [
    "df['Ремонт'].unique()"
   ]
  },
  {
   "cell_type": "markdown",
   "id": "5697dba9-ef03-40c9-9232-1d435f46907f",
   "metadata": {},
   "source": [
    "Пропуски по ремонту могут быть разными по смыслу. Заменим на отсутствие данных (н/д). Гипотеза: ремонт может существенно влиять на цену"
   ]
  },
  {
   "cell_type": "code",
   "execution_count": 31,
   "id": "a1559c57-2faa-4f5c-9f70-a41b77875044",
   "metadata": {},
   "outputs": [],
   "source": [
    "df['Ремонт'] = df['Ремонт'].fillna('н/д')"
   ]
  },
  {
   "cell_type": "markdown",
   "id": "23101359-9d26-4788-9d25-6181355efaa6",
   "metadata": {},
   "source": [
    "### Площадь комнат, м2"
   ]
  },
  {
   "cell_type": "code",
   "execution_count": 32,
   "id": "12dc3285-5a07-467e-88e7-f212c811e411",
   "metadata": {},
   "outputs": [
    {
     "data": {
      "text/plain": [
       "array([nan, '25 25 20 25', '14-42-20-19', ..., '22-16-30', '32+13,6-18,7',\n",
       "       '26,2+15,5-22,0'], dtype=object)"
      ]
     },
     "execution_count": 32,
     "metadata": {},
     "output_type": "execute_result"
    }
   ],
   "source": [
    "df['Площадь комнат, м2'].unique()"
   ]
  },
  {
   "cell_type": "markdown",
   "id": "2a912416-a5bc-4e8f-9af5-603376428061",
   "metadata": {},
   "source": [
    "Данные не могут быть использованы, поскольку имеют разный формат перечисления, требуют проверки на соответствие общей площади. Возможны ошибки в указании площади (0 м2, 2 м2), есть дробные части через запятую, есть перечисления через запятую."
   ]
  },
  {
   "cell_type": "code",
   "execution_count": 33,
   "id": "03244552-99db-4d82-b645-b0398c4fb9f1",
   "metadata": {},
   "outputs": [],
   "source": [
    "df = df.drop('Площадь комнат, м2', axis=1)"
   ]
  },
  {
   "cell_type": "markdown",
   "id": "2ef267ad-27be-4912-a438-bdb639a0be77",
   "metadata": {},
   "source": [
    "## Переименование столбцов"
   ]
  },
  {
   "cell_type": "code",
   "execution_count": 34,
   "id": "f671ada8-0c7e-4ba9-9d15-fb9586961026",
   "metadata": {},
   "outputs": [
    {
     "data": {
      "text/plain": [
       "Index(['ID  объявления', 'Количество комнат', 'Адрес', 'Площадь, м2',\n",
       "       'Парковка', 'Цена', 'Ремонт', 'метро', 'Время до метро',\n",
       "       'Расчет времени пешком', 'Этаж', 'Этажность', 'Тип дома'],\n",
       "      dtype='object')"
      ]
     },
     "execution_count": 34,
     "metadata": {},
     "output_type": "execute_result"
    }
   ],
   "source": [
    "df.columns"
   ]
  },
  {
   "cell_type": "code",
   "execution_count": 35,
   "id": "d66d0300-95b4-416b-9f2a-ad5ed61fc3b0",
   "metadata": {},
   "outputs": [],
   "source": [
    "df.rename(columns = {\n",
    "                    'ID  объявления':'add_id', \n",
    "                    'Количество комнат':'rooms',\n",
    "                    'Адрес': 'address',\n",
    "                    'Площадь, м2': 'square_m2',\n",
    "                    'Парковка': 'parking',\n",
    "                    'Цена': 'price',\n",
    "                    'Ремонт': 'repair',\n",
    "                    'метро': 'metro',\n",
    "                    'Время до метро': 'time_to_metro',\n",
    "                    'Расчет времени пешком': 'time_on_foot',\n",
    "                    'Этаж': 'flat_floor',\n",
    "                    'Этажность': 'house_floors',\n",
    "                    'Тип дома': 'house_type'\n",
    "                    }, inplace = True)"
   ]
  },
  {
   "cell_type": "markdown",
   "id": "8ef295d6-26a5-4fa4-821e-e08b3cb8ad49",
   "metadata": {},
   "source": [
    "## Объединение двух частей по столбцам из разных csv"
   ]
  },
  {
   "cell_type": "code",
   "execution_count": 36,
   "id": "094ee9d1-7dbd-436f-af97-3b068955849e",
   "metadata": {},
   "outputs": [
    {
     "data": {
      "text/html": [
       "<div>\n",
       "<style scoped>\n",
       "    .dataframe tbody tr th:only-of-type {\n",
       "        vertical-align: middle;\n",
       "    }\n",
       "\n",
       "    .dataframe tbody tr th {\n",
       "        vertical-align: top;\n",
       "    }\n",
       "\n",
       "    .dataframe thead th {\n",
       "        text-align: right;\n",
       "    }\n",
       "</style>\n",
       "<table border=\"1\" class=\"dataframe\">\n",
       "  <thead>\n",
       "    <tr style=\"text-align: right;\">\n",
       "      <th></th>\n",
       "      <th>add_id</th>\n",
       "      <th>balcony</th>\n",
       "      <th>windows</th>\n",
       "      <th>bathroom</th>\n",
       "      <th>with_children/animals</th>\n",
       "      <th>name_of_the_RC</th>\n",
       "      <th>house_series</th>\n",
       "      <th>ceiling_height_m</th>\n",
       "      <th>elevator</th>\n",
       "      <th>garbage_chute</th>\n",
       "      <th>furniture_rooms</th>\n",
       "      <th>furniture_kitchen</th>\n",
       "      <th>the_internet</th>\n",
       "      <th>tv</th>\n",
       "    </tr>\n",
       "  </thead>\n",
       "  <tbody>\n",
       "    <tr>\n",
       "      <th>0</th>\n",
       "      <td>271271157</td>\n",
       "      <td>0</td>\n",
       "      <td>н/д</td>\n",
       "      <td>н/д</td>\n",
       "      <td>Можно с детьми, Можно с животными</td>\n",
       "      <td>Новый Арбат</td>\n",
       "      <td>н/д</td>\n",
       "      <td>3.0</td>\n",
       "      <td>Пасс,Груз</td>\n",
       "      <td>Да</td>\n",
       "      <td>1</td>\n",
       "      <td>1</td>\n",
       "      <td>1</td>\n",
       "      <td>1</td>\n",
       "    </tr>\n",
       "    <tr>\n",
       "      <th>1</th>\n",
       "      <td>271634126</td>\n",
       "      <td>0</td>\n",
       "      <td>На улицу и двор</td>\n",
       "      <td>Совмещенный</td>\n",
       "      <td>Можно с детьми</td>\n",
       "      <td>Новый Арбат</td>\n",
       "      <td>н/д</td>\n",
       "      <td>3.5</td>\n",
       "      <td>Пасс,Груз</td>\n",
       "      <td>Нет</td>\n",
       "      <td>1</td>\n",
       "      <td>1</td>\n",
       "      <td>1</td>\n",
       "      <td>1</td>\n",
       "    </tr>\n",
       "    <tr>\n",
       "      <th>2</th>\n",
       "      <td>271173086</td>\n",
       "      <td>0</td>\n",
       "      <td>На улицу и двор</td>\n",
       "      <td>Совмещенный</td>\n",
       "      <td>Можно с детьми</td>\n",
       "      <td>Новый Арбат</td>\n",
       "      <td>н/д</td>\n",
       "      <td>3.2</td>\n",
       "      <td>Пасс</td>\n",
       "      <td>н/д</td>\n",
       "      <td>1</td>\n",
       "      <td>1</td>\n",
       "      <td>1</td>\n",
       "      <td>1</td>\n",
       "    </tr>\n",
       "  </tbody>\n",
       "</table>\n",
       "</div>"
      ],
      "text/plain": [
       "      add_id balcony          windows     bathroom  \\\n",
       "0  271271157       0              н/д          н/д   \n",
       "1  271634126       0  На улицу и двор  Совмещенный   \n",
       "2  271173086       0  На улицу и двор  Совмещенный   \n",
       "\n",
       "               with_children/animals name_of_the_RC house_series  \\\n",
       "0  Можно с детьми, Можно с животными   Новый Арбат           н/д   \n",
       "1                     Можно с детьми    Новый Арбат          н/д   \n",
       "2                     Можно с детьми    Новый Арбат          н/д   \n",
       "\n",
       "   ceiling_height_m   elevator garbage_chute  furniture_rooms  \\\n",
       "0               3.0  Пасс,Груз            Да                1   \n",
       "1               3.5  Пасс,Груз           Нет                1   \n",
       "2               3.2       Пасс           н/д                1   \n",
       "\n",
       "   furniture_kitchen  the_internet  tv  \n",
       "0                  1             1   1  \n",
       "1                  1             1   1  \n",
       "2                  1             1   1  "
      ]
     },
     "execution_count": 36,
     "metadata": {},
     "output_type": "execute_result"
    }
   ],
   "source": [
    "#df_2 = pd.read_csv('/home/user/ds_bootcamp/real_estate/data_p2.csv')\n",
    "df_2 = pd.read_csv('/home/user/ds_bootcamp/real_estate/data_p2.csv',  sep='\\t')\n",
    "df_2 = df_2.drop('Unnamed: 0', axis = 1)\n",
    "df_2 = df_2.rename(columns = {'ad_ID': 'add_id'})\n",
    "df_2.head(3)"
   ]
  },
  {
   "cell_type": "code",
   "execution_count": 37,
   "id": "4afb5e43-5868-4505-bbc8-691b0cad9af7",
   "metadata": {},
   "outputs": [
    {
     "data": {
      "text/html": [
       "<div>\n",
       "<style scoped>\n",
       "    .dataframe tbody tr th:only-of-type {\n",
       "        vertical-align: middle;\n",
       "    }\n",
       "\n",
       "    .dataframe tbody tr th {\n",
       "        vertical-align: top;\n",
       "    }\n",
       "\n",
       "    .dataframe thead th {\n",
       "        text-align: right;\n",
       "    }\n",
       "</style>\n",
       "<table border=\"1\" class=\"dataframe\">\n",
       "  <thead>\n",
       "    <tr style=\"text-align: right;\">\n",
       "      <th></th>\n",
       "      <th>add_id</th>\n",
       "      <th>rooms</th>\n",
       "      <th>address</th>\n",
       "      <th>square_m2</th>\n",
       "      <th>parking</th>\n",
       "      <th>price</th>\n",
       "      <th>repair</th>\n",
       "      <th>metro</th>\n",
       "      <th>time_to_metro</th>\n",
       "      <th>time_on_foot</th>\n",
       "      <th>...</th>\n",
       "      <th>with_children/animals</th>\n",
       "      <th>name_of_the_RC</th>\n",
       "      <th>house_series</th>\n",
       "      <th>ceiling_height_m</th>\n",
       "      <th>elevator</th>\n",
       "      <th>garbage_chute</th>\n",
       "      <th>furniture_rooms</th>\n",
       "      <th>furniture_kitchen</th>\n",
       "      <th>the_internet</th>\n",
       "      <th>tv</th>\n",
       "    </tr>\n",
       "  </thead>\n",
       "  <tbody>\n",
       "    <tr>\n",
       "      <th>0</th>\n",
       "      <td>271271157</td>\n",
       "      <td>4</td>\n",
       "      <td>улица Новый Арбат, 27</td>\n",
       "      <td>200.0</td>\n",
       "      <td>подземная</td>\n",
       "      <td>500000.0</td>\n",
       "      <td>Дизайнерский</td>\n",
       "      <td>Смоленская</td>\n",
       "      <td>9</td>\n",
       "      <td>True</td>\n",
       "      <td>...</td>\n",
       "      <td>Можно с детьми, Можно с животными</td>\n",
       "      <td>Новый Арбат</td>\n",
       "      <td>н/д</td>\n",
       "      <td>3.0</td>\n",
       "      <td>Пасс,Груз</td>\n",
       "      <td>Да</td>\n",
       "      <td>1</td>\n",
       "      <td>1</td>\n",
       "      <td>1</td>\n",
       "      <td>1</td>\n",
       "    </tr>\n",
       "    <tr>\n",
       "      <th>1</th>\n",
       "      <td>271634126</td>\n",
       "      <td>4</td>\n",
       "      <td>улица Новый Арбат, 27</td>\n",
       "      <td>198.0</td>\n",
       "      <td>подземная</td>\n",
       "      <td>500000.0</td>\n",
       "      <td>Дизайнерский</td>\n",
       "      <td>Смоленская</td>\n",
       "      <td>8</td>\n",
       "      <td>True</td>\n",
       "      <td>...</td>\n",
       "      <td>Можно с детьми</td>\n",
       "      <td>Новый Арбат</td>\n",
       "      <td>н/д</td>\n",
       "      <td>3.5</td>\n",
       "      <td>Пасс,Груз</td>\n",
       "      <td>Нет</td>\n",
       "      <td>1</td>\n",
       "      <td>1</td>\n",
       "      <td>1</td>\n",
       "      <td>1</td>\n",
       "    </tr>\n",
       "    <tr>\n",
       "      <th>2</th>\n",
       "      <td>271173086</td>\n",
       "      <td>4</td>\n",
       "      <td>улица Новый Арбат, 27</td>\n",
       "      <td>200.0</td>\n",
       "      <td>подземная</td>\n",
       "      <td>500000.0</td>\n",
       "      <td>Евроремонт</td>\n",
       "      <td>Смоленская</td>\n",
       "      <td>7</td>\n",
       "      <td>True</td>\n",
       "      <td>...</td>\n",
       "      <td>Можно с детьми</td>\n",
       "      <td>Новый Арбат</td>\n",
       "      <td>н/д</td>\n",
       "      <td>3.2</td>\n",
       "      <td>Пасс</td>\n",
       "      <td>н/д</td>\n",
       "      <td>1</td>\n",
       "      <td>1</td>\n",
       "      <td>1</td>\n",
       "      <td>1</td>\n",
       "    </tr>\n",
       "  </tbody>\n",
       "</table>\n",
       "<p>3 rows × 26 columns</p>\n",
       "</div>"
      ],
      "text/plain": [
       "      add_id  rooms                address  square_m2    parking     price  \\\n",
       "0  271271157      4  улица Новый Арбат, 27      200.0  подземная  500000.0   \n",
       "1  271634126      4  улица Новый Арбат, 27      198.0  подземная  500000.0   \n",
       "2  271173086      4  улица Новый Арбат, 27      200.0  подземная  500000.0   \n",
       "\n",
       "         repair       metro time_to_metro  time_on_foot  ...  \\\n",
       "0  Дизайнерский  Смоленская             9          True  ...   \n",
       "1  Дизайнерский  Смоленская             8          True  ...   \n",
       "2    Евроремонт  Смоленская             7          True  ...   \n",
       "\n",
       "               with_children/animals  name_of_the_RC house_series  \\\n",
       "0  Можно с детьми, Можно с животными    Новый Арбат           н/д   \n",
       "1                     Можно с детьми     Новый Арбат          н/д   \n",
       "2                     Можно с детьми     Новый Арбат          н/д   \n",
       "\n",
       "  ceiling_height_m   elevator garbage_chute furniture_rooms furniture_kitchen  \\\n",
       "0              3.0  Пасс,Груз            Да               1                 1   \n",
       "1              3.5  Пасс,Груз           Нет               1                 1   \n",
       "2              3.2       Пасс           н/д               1                 1   \n",
       "\n",
       "  the_internet  tv  \n",
       "0            1   1  \n",
       "1            1   1  \n",
       "2            1   1  \n",
       "\n",
       "[3 rows x 26 columns]"
      ]
     },
     "execution_count": 37,
     "metadata": {},
     "output_type": "execute_result"
    }
   ],
   "source": [
    "df_result = pd.merge(df, df_2, on='add_id', how='inner')\n",
    "df_result.head(3)"
   ]
  },
  {
   "cell_type": "markdown",
   "id": "40d580f2-18df-41eb-8d14-842705fa7dc8",
   "metadata": {},
   "source": [
    "## Создаем новый объединенный файл"
   ]
  },
  {
   "cell_type": "code",
   "execution_count": 38,
   "id": "e3d83ab9-532d-42ef-8af3-91f115e255a2",
   "metadata": {},
   "outputs": [],
   "source": [
    "# df_result.to_csv('data.csv')"
   ]
  }
 ],
 "metadata": {
  "kernelspec": {
   "display_name": "Python 3 (ipykernel)",
   "language": "python",
   "name": "python3"
  },
  "language_info": {
   "codemirror_mode": {
    "name": "ipython",
    "version": 3
   },
   "file_extension": ".py",
   "mimetype": "text/x-python",
   "name": "python",
   "nbconvert_exporter": "python",
   "pygments_lexer": "ipython3",
   "version": "3.10.14"
  }
 },
 "nbformat": 4,
 "nbformat_minor": 5
}
