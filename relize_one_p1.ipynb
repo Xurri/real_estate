{
 "cells": [
  {
   "cell_type": "markdown",
   "id": "f3e52b72-5617-4b5e-a270-b1fc57570df7",
   "metadata": {},
   "source": [
    "# Подготовка данных по недвижимости"
   ]
  },
  {
   "cell_type": "code",
   "execution_count": 1,
   "id": "3104db30-818e-4b7c-8797-955fdb61cc20",
   "metadata": {},
   "outputs": [],
   "source": [
    "import pandas as pd\n",
    "import matplotlib.pyplot as plt\n",
    "import seaborn as sns"
   ]
  },
  {
   "cell_type": "markdown",
   "id": "000c1988-59ba-43ba-b381-0493023352b6",
   "metadata": {},
   "source": [
    "Рассмотрим датасет"
   ]
  },
  {
   "cell_type": "code",
   "execution_count": 2,
   "id": "49eded73-0217-40a1-9f7e-4d610c3584be",
   "metadata": {},
   "outputs": [
    {
     "data": {
      "text/html": [
       "<div>\n",
       "<style scoped>\n",
       "    .dataframe tbody tr th:only-of-type {\n",
       "        vertical-align: middle;\n",
       "    }\n",
       "\n",
       "    .dataframe tbody tr th {\n",
       "        vertical-align: top;\n",
       "    }\n",
       "\n",
       "    .dataframe thead th {\n",
       "        text-align: right;\n",
       "    }\n",
       "</style>\n",
       "<table border=\"1\" class=\"dataframe\">\n",
       "  <thead>\n",
       "    <tr style=\"text-align: right;\">\n",
       "      <th></th>\n",
       "      <th>Unnamed: 0</th>\n",
       "      <th>ID  объявления</th>\n",
       "      <th>Количество комнат</th>\n",
       "      <th>Тип</th>\n",
       "      <th>Метро</th>\n",
       "      <th>Адрес</th>\n",
       "      <th>Площадь, м2</th>\n",
       "      <th>Дом</th>\n",
       "      <th>Парковка</th>\n",
       "      <th>Цена</th>\n",
       "      <th>...</th>\n",
       "      <th>Окна</th>\n",
       "      <th>Санузел</th>\n",
       "      <th>Можно с детьми/животными</th>\n",
       "      <th>Дополнительно</th>\n",
       "      <th>Название ЖК</th>\n",
       "      <th>Серия дома</th>\n",
       "      <th>Высота потолков, м</th>\n",
       "      <th>Лифт</th>\n",
       "      <th>Мусоропровод</th>\n",
       "      <th>Ссылка на объявление</th>\n",
       "    </tr>\n",
       "  </thead>\n",
       "  <tbody>\n",
       "    <tr>\n",
       "      <th>0</th>\n",
       "      <td>0</td>\n",
       "      <td>271271157</td>\n",
       "      <td>4</td>\n",
       "      <td>Квартира</td>\n",
       "      <td>м. Смоленская (9 мин пешком)</td>\n",
       "      <td>Москва, улица Новый Арбат, 27</td>\n",
       "      <td>200.0/20.0</td>\n",
       "      <td>5/16, Монолитный</td>\n",
       "      <td>подземная</td>\n",
       "      <td>500000.0 руб./ За месяц, Залог - 500000 руб., ...</td>\n",
       "      <td>...</td>\n",
       "      <td>NaN</td>\n",
       "      <td>NaN</td>\n",
       "      <td>Можно с детьми, Можно с животными</td>\n",
       "      <td>Мебель в комнатах, Мебель на кухне, Ванна, Душ...</td>\n",
       "      <td>Новый Арбат, 2010</td>\n",
       "      <td>NaN</td>\n",
       "      <td>3.0</td>\n",
       "      <td>Пасс (4), Груз (1)</td>\n",
       "      <td>Да</td>\n",
       "      <td>https://www.cian.ru/rent/flat/271271157</td>\n",
       "    </tr>\n",
       "    <tr>\n",
       "      <th>1</th>\n",
       "      <td>1</td>\n",
       "      <td>271634126</td>\n",
       "      <td>4</td>\n",
       "      <td>Квартира</td>\n",
       "      <td>м. Смоленская (8 мин пешком)</td>\n",
       "      <td>Москва, улица Новый Арбат, 27</td>\n",
       "      <td>198.0/95.0/18.0</td>\n",
       "      <td>5/16, Монолитно-кирпичный</td>\n",
       "      <td>подземная</td>\n",
       "      <td>500000.0 руб./ За месяц, Залог - 500000 руб., ...</td>\n",
       "      <td>...</td>\n",
       "      <td>На улицу и двор</td>\n",
       "      <td>Совмещенный (2), Раздельный (1)</td>\n",
       "      <td>Можно с детьми</td>\n",
       "      <td>Мебель в комнатах, Мебель на кухне, Ванна, Душ...</td>\n",
       "      <td>Новый Арбат</td>\n",
       "      <td>NaN</td>\n",
       "      <td>3.5</td>\n",
       "      <td>Пасс (1), Груз (1)</td>\n",
       "      <td>Нет</td>\n",
       "      <td>https://www.cian.ru/rent/flat/271634126</td>\n",
       "    </tr>\n",
       "    <tr>\n",
       "      <th>2</th>\n",
       "      <td>2</td>\n",
       "      <td>271173086</td>\n",
       "      <td>4, Оба варианта</td>\n",
       "      <td>Квартира</td>\n",
       "      <td>м. Смоленская (7 мин пешком)</td>\n",
       "      <td>Москва, улица Новый Арбат, 27</td>\n",
       "      <td>200.0/116.0/4.0</td>\n",
       "      <td>5/16</td>\n",
       "      <td>подземная</td>\n",
       "      <td>500000.0 руб./ За месяц, Залог - 500000 руб., ...</td>\n",
       "      <td>...</td>\n",
       "      <td>На улицу и двор</td>\n",
       "      <td>Совмещенный (3)</td>\n",
       "      <td>Можно с детьми</td>\n",
       "      <td>Мебель в комнатах, Мебель на кухне, Ванна, Душ...</td>\n",
       "      <td>Новый Арбат</td>\n",
       "      <td>NaN</td>\n",
       "      <td>3.2</td>\n",
       "      <td>Пасс (1)</td>\n",
       "      <td>NaN</td>\n",
       "      <td>https://www.cian.ru/rent/flat/271173086</td>\n",
       "    </tr>\n",
       "    <tr>\n",
       "      <th>3</th>\n",
       "      <td>3</td>\n",
       "      <td>272197456</td>\n",
       "      <td>4, Оба варианта</td>\n",
       "      <td>Квартира</td>\n",
       "      <td>м. Смоленская (3 мин пешком)</td>\n",
       "      <td>Москва, переулок Плотников, 21С1</td>\n",
       "      <td>170.0/95.0/17.0</td>\n",
       "      <td>5/6</td>\n",
       "      <td>подземная</td>\n",
       "      <td>400000.0 руб./ За месяц, Залог - 400000 руб., ...</td>\n",
       "      <td>...</td>\n",
       "      <td>На улицу и двор</td>\n",
       "      <td>Совмещенный (3)</td>\n",
       "      <td>Можно с животными</td>\n",
       "      <td>Мебель в комнатах, Мебель на кухне, Ванна, Душ...</td>\n",
       "      <td>NaN</td>\n",
       "      <td>NaN</td>\n",
       "      <td>3.2</td>\n",
       "      <td>Пасс (1)</td>\n",
       "      <td>NaN</td>\n",
       "      <td>https://www.cian.ru/rent/flat/272197456</td>\n",
       "    </tr>\n",
       "    <tr>\n",
       "      <th>4</th>\n",
       "      <td>4</td>\n",
       "      <td>273614615</td>\n",
       "      <td>2</td>\n",
       "      <td>Квартира</td>\n",
       "      <td>м. Арбатская (7 мин пешком)</td>\n",
       "      <td>Москва, улица Новый Арбат, 15</td>\n",
       "      <td>58.0/38.0/5.0</td>\n",
       "      <td>12/26, Панельный</td>\n",
       "      <td>NaN</td>\n",
       "      <td>225000.0 руб./ За месяц, Залог - 225000 руб., ...</td>\n",
       "      <td>...</td>\n",
       "      <td>На улицу и двор</td>\n",
       "      <td>Совмещенный (2)</td>\n",
       "      <td>NaN</td>\n",
       "      <td>Мебель в комнатах, Мебель на кухне, Ванна, Душ...</td>\n",
       "      <td>The Book</td>\n",
       "      <td>NaN</td>\n",
       "      <td>3.9</td>\n",
       "      <td>Пасс (1), Груз (1)</td>\n",
       "      <td>Да</td>\n",
       "      <td>https://www.cian.ru/rent/flat/273614615</td>\n",
       "    </tr>\n",
       "  </tbody>\n",
       "</table>\n",
       "<p>5 rows × 25 columns</p>\n",
       "</div>"
      ],
      "text/plain": [
       "   Unnamed: 0  ID  объявления Количество комнат       Тип  \\\n",
       "0           0       271271157                 4  Квартира   \n",
       "1           1       271634126                 4  Квартира   \n",
       "2           2       271173086   4, Оба варианта  Квартира   \n",
       "3           3       272197456   4, Оба варианта  Квартира   \n",
       "4           4       273614615                 2  Квартира   \n",
       "\n",
       "                          Метро                             Адрес  \\\n",
       "0  м. Смоленская (9 мин пешком)     Москва, улица Новый Арбат, 27   \n",
       "1  м. Смоленская (8 мин пешком)     Москва, улица Новый Арбат, 27   \n",
       "2  м. Смоленская (7 мин пешком)     Москва, улица Новый Арбат, 27   \n",
       "3  м. Смоленская (3 мин пешком)  Москва, переулок Плотников, 21С1   \n",
       "4   м. Арбатская (7 мин пешком)     Москва, улица Новый Арбат, 15   \n",
       "\n",
       "       Площадь, м2                        Дом   Парковка  \\\n",
       "0       200.0/20.0           5/16, Монолитный  подземная   \n",
       "1  198.0/95.0/18.0  5/16, Монолитно-кирпичный  подземная   \n",
       "2  200.0/116.0/4.0                       5/16  подземная   \n",
       "3  170.0/95.0/17.0                        5/6  подземная   \n",
       "4    58.0/38.0/5.0           12/26, Панельный        NaN   \n",
       "\n",
       "                                                Цена  ...             Окна  \\\n",
       "0  500000.0 руб./ За месяц, Залог - 500000 руб., ...  ...              NaN   \n",
       "1  500000.0 руб./ За месяц, Залог - 500000 руб., ...  ...  На улицу и двор   \n",
       "2  500000.0 руб./ За месяц, Залог - 500000 руб., ...  ...  На улицу и двор   \n",
       "3  400000.0 руб./ За месяц, Залог - 400000 руб., ...  ...  На улицу и двор   \n",
       "4  225000.0 руб./ За месяц, Залог - 225000 руб., ...  ...  На улицу и двор   \n",
       "\n",
       "                           Санузел           Можно с детьми/животными  \\\n",
       "0                              NaN  Можно с детьми, Можно с животными   \n",
       "1  Совмещенный (2), Раздельный (1)                     Можно с детьми   \n",
       "2                  Совмещенный (3)                     Можно с детьми   \n",
       "3                  Совмещенный (3)                  Можно с животными   \n",
       "4                  Совмещенный (2)                                NaN   \n",
       "\n",
       "                                       Дополнительно        Название ЖК  \\\n",
       "0  Мебель в комнатах, Мебель на кухне, Ванна, Душ...  Новый Арбат, 2010   \n",
       "1  Мебель в комнатах, Мебель на кухне, Ванна, Душ...        Новый Арбат   \n",
       "2  Мебель в комнатах, Мебель на кухне, Ванна, Душ...        Новый Арбат   \n",
       "3  Мебель в комнатах, Мебель на кухне, Ванна, Душ...                NaN   \n",
       "4  Мебель в комнатах, Мебель на кухне, Ванна, Душ...           The Book   \n",
       "\n",
       "  Серия дома Высота потолков, м                Лифт Мусоропровод  \\\n",
       "0        NaN                3.0  Пасс (4), Груз (1)           Да   \n",
       "1        NaN                3.5  Пасс (1), Груз (1)          Нет   \n",
       "2        NaN                3.2            Пасс (1)          NaN   \n",
       "3        NaN                3.2            Пасс (1)          NaN   \n",
       "4        NaN                3.9  Пасс (1), Груз (1)           Да   \n",
       "\n",
       "                      Ссылка на объявление  \n",
       "0  https://www.cian.ru/rent/flat/271271157  \n",
       "1  https://www.cian.ru/rent/flat/271634126  \n",
       "2  https://www.cian.ru/rent/flat/271173086  \n",
       "3  https://www.cian.ru/rent/flat/272197456  \n",
       "4  https://www.cian.ru/rent/flat/273614615  \n",
       "\n",
       "[5 rows x 25 columns]"
      ]
     },
     "execution_count": 2,
     "metadata": {},
     "output_type": "execute_result"
    }
   ],
   "source": [
    "df = pd.read_csv('/home/user/ds_bootcamp/real_estate/_data.csv')\n",
    "df.head()"
   ]
  },
  {
   "cell_type": "code",
   "execution_count": 3,
   "id": "21114dfc-cd2f-4a87-a54e-666d12930c7d",
   "metadata": {},
   "outputs": [
    {
     "name": "stdout",
     "output_type": "stream",
     "text": [
      "<class 'pandas.core.frame.DataFrame'>\n",
      "RangeIndex: 23368 entries, 0 to 23367\n",
      "Data columns (total 25 columns):\n",
      " #   Column                    Non-Null Count  Dtype  \n",
      "---  ------                    --------------  -----  \n",
      " 0   Unnamed: 0                23368 non-null  int64  \n",
      " 1   ID  объявления            23368 non-null  int64  \n",
      " 2   Количество комнат         22327 non-null  object \n",
      " 3   Тип                       23368 non-null  object \n",
      " 4   Метро                     22053 non-null  object \n",
      " 5   Адрес                     23368 non-null  object \n",
      " 6   Площадь, м2               23368 non-null  object \n",
      " 7   Дом                       23368 non-null  object \n",
      " 8   Парковка                  9951 non-null   object \n",
      " 9   Цена                      23368 non-null  object \n",
      " 10  Телефоны                  23368 non-null  object \n",
      " 11  Описание                  23368 non-null  object \n",
      " 12  Ремонт                    20613 non-null  object \n",
      " 13  Площадь комнат, м2        14458 non-null  object \n",
      " 14  Балкон                    15390 non-null  object \n",
      " 15  Окна                      16755 non-null  object \n",
      " 16  Санузел                   20696 non-null  object \n",
      " 17  Можно с детьми/животными  17272 non-null  object \n",
      " 18  Дополнительно             23011 non-null  object \n",
      " 19  Название ЖК               5848 non-null   object \n",
      " 20  Серия дома                2163 non-null   object \n",
      " 21  Высота потолков, м        11206 non-null  float64\n",
      " 22  Лифт                      17868 non-null  object \n",
      " 23  Мусоропровод              12846 non-null  object \n",
      " 24  Ссылка на объявление      23368 non-null  object \n",
      "dtypes: float64(1), int64(2), object(22)\n",
      "memory usage: 4.5+ MB\n"
     ]
    }
   ],
   "source": [
    "df.info()"
   ]
  },
  {
   "cell_type": "code",
   "execution_count": 4,
   "id": "af52dbfd-3fa6-4715-bd7e-49008db5e9dd",
   "metadata": {},
   "outputs": [
    {
     "data": {
      "image/png": "[encoded data removed]",
      "text/plain": [
       "<Figure size 1200x600 with 1 Axes>"
      ]
     },
     "metadata": {},
     "output_type": "display_data"
    }
   ],
   "source": [
    "nan_df = df.isna().sum()\n",
    "normal_df = df.notna().sum()\n",
    "%matplotlib inline\n",
    "plt.figure(figsize=(12, 6))\n",
    "width = 0.2\n",
    "indices = range(len(df.columns))\n",
    "\n",
    "plt.bar(indices, nan_df, width=width, label='NaN', color='red')\n",
    "plt.bar([i + width for i in indices], normal_df, width=width, label='Normal', color='blue')\n",
    "\n",
    "plt.ylabel('Количество')\n",
    "plt.title('Соотношение NaN к нормальным значениям')\n",
    "plt.xticks([i + width / 2 for i in indices], df.columns, rotation=45, ha='right')\n",
    "plt.legend()\n",
    "plt.tight_layout()\n",
    "plt.show()"
   ]
  },
  {
   "cell_type": "markdown",
   "id": "2da5f39f-fe9f-484b-82ff-5d16c4f76f66",
   "metadata": {},
   "source": [
    "Общее количество объявлений (23368) отличается от количества значений по ряду признаков (минимальное - 2163 по серии дома, 5848 по названию ЖК). Есть пропуски, требующие обработки. Дубликатов нет. Есть ряд признаков числового типа, у которых нужно изменить тип данных. "
   ]
  },
  {
   "cell_type": "markdown",
   "id": "ac6a2489-b44e-4494-88e7-bb2467bf17f7",
   "metadata": {},
   "source": [
    "## Изучим данные по признакам"
   ]
  },
  {
   "cell_type": "markdown",
   "id": "fb3ff2af-e95c-4976-9c12-adb7723dd2de",
   "metadata": {},
   "source": [
    "### 'Unnamed: 0' "
   ]
  },
  {
   "cell_type": "markdown",
   "id": "df51b04d-65ca-41cf-b48a-789bd1df0ef4",
   "metadata": {},
   "source": [
    "Дублирует индексы, не нужен для разработки модели. К удалению"
   ]
  },
  {
   "cell_type": "markdown",
   "id": "ba3dabfd-a225-44f6-93a2-733e0d1946ff",
   "metadata": {},
   "source": [
    "### Комнаты"
   ]
  },
  {
   "cell_type": "code",
   "execution_count": 5,
   "id": "707dca7d-3919-43b3-96b6-90153ecfb9eb",
   "metadata": {},
   "outputs": [
    {
     "name": "stdout",
     "output_type": "stream",
     "text": [
      "4\n",
      "4, Оба варианта\n",
      "2\n",
      "3\n",
      "5, Оба варианта\n",
      "3, Изолированная\n",
      "5\n",
      "5, Изолированная\n",
      "2, Оба варианта\n",
      "3, Оба варианта\n",
      "6\n",
      "1\n",
      "4, Изолированная\n",
      "6, Оба варианта\n",
      "2, Изолированная\n",
      "nan\n",
      "2, Смежная\n",
      "4, Смежная\n",
      "3, Смежная\n",
      "6, Изолированная\n",
      "1, Изолированная\n",
      "1, Оба варианта\n",
      "5, Смежная\n",
      "6, Смежная\n",
      "1, Смежная\n"
     ]
    }
   ],
   "source": [
    "for i in df['Количество комнат'].unique(): # Уникальные значения по комнатам\n",
    "    print(i)"
   ]
  },
  {
   "cell_type": "code",
   "execution_count": 6,
   "id": "6d0c0ce3-6aac-4a1f-90e5-ab85b9b3648c",
   "metadata": {},
   "outputs": [
    {
     "name": "stdout",
     "output_type": "stream",
     "text": [
      "1041\n"
     ]
    }
   ],
   "source": [
    "print(df['Количество комнат'].isna().sum()) # Подсчет пропусков по количеству комнат"
   ]
  },
  {
   "cell_type": "markdown",
   "id": "9ee8a74e-136f-4959-840e-95a9a0fc4fed",
   "metadata": {},
   "source": [
    "Есть 1041 пропуск по комнатам, нужно преобразовать данные в числовой вид, убрать текстовую часть."
   ]
  },
  {
   "cell_type": "markdown",
   "id": "dd948b80-2908-48f2-935b-0ae54e7da694",
   "metadata": {},
   "source": [
    "### Тип"
   ]
  },
  {
   "cell_type": "code",
   "execution_count": 7,
   "id": "42c8cf32-084f-49c7-b12c-a9eed27a7be7",
   "metadata": {},
   "outputs": [
    {
     "data": {
      "text/plain": [
       "array(['Квартира'], dtype=object)"
      ]
     },
     "execution_count": 7,
     "metadata": {},
     "output_type": "execute_result"
    }
   ],
   "source": [
    "df['Тип'].unique() # Уникальные значения по типу"
   ]
  },
  {
   "cell_type": "code",
   "execution_count": 8,
   "id": "d02100d2-709f-428d-85eb-e310353523c3",
   "metadata": {},
   "outputs": [
    {
     "name": "stdout",
     "output_type": "stream",
     "text": [
      "0\n"
     ]
    }
   ],
   "source": [
    "print(df['Тип'].isna().sum()) # Подсчет пропусков по количеству комнат"
   ]
  },
  {
   "cell_type": "markdown",
   "id": "b2b82110-5f4b-4d89-9670-d5dae8033a9a",
   "metadata": {},
   "source": [
    "Поскольку один тип значений - он не повлияет на модель, но может усложнить расчет, признак к удалению."
   ]
  },
  {
   "cell_type": "markdown",
   "id": "dd2d3ff9-1663-4fc9-96ef-5f40724ea69a",
   "metadata": {},
   "source": [
    "### Метро"
   ]
  },
  {
   "cell_type": "code",
   "execution_count": 9,
   "id": "b8b16693-4df7-45ef-b610-579bdf0da16f",
   "metadata": {},
   "outputs": [
    {
     "data": {
      "text/plain": [
       "array(['м. Смоленская (9 мин пешком)', 'м. Смоленская (8 мин пешком)',\n",
       "       'м. Смоленская (7 мин пешком)', ...,\n",
       "       'м. Боровское шоссе (5 мин на машине)',\n",
       "       'м. Говорово (2 мин пешком)', 'м. Солнцево (5 мин на машине)'],\n",
       "      dtype=object)"
      ]
     },
     "execution_count": 9,
     "metadata": {},
     "output_type": "execute_result"
    }
   ],
   "source": [
    "df['Метро'].unique() # Уникальные значения по типу"
   ]
  },
  {
   "cell_type": "code",
   "execution_count": 10,
   "id": "ac0d9b17-4959-47e8-bfe2-b6bf70ef3cce",
   "metadata": {},
   "outputs": [
    {
     "name": "stdout",
     "output_type": "stream",
     "text": [
      "1315\n"
     ]
    }
   ],
   "source": [
    "print(df['Метро'].isna().sum()) # Подсчет пропусков по метро"
   ]
  },
  {
   "cell_type": "markdown",
   "id": "e04f1610-9eef-47fe-a51b-fc849cd13dcd",
   "metadata": {},
   "source": [
    "Потребуется удалить текстовую часть, связанную с расстоянием от метро, т.к. модель будет некорректно обрабатывать такие значения. 1315 квартир не имеют информации о метро. Информация существенная для анализа цены, нельзя заменить случайными значениями. \n",
    "\n",
    "Условно возможная альтернатива сохранения использовать информацию по таким квартирам - для всего массива данных выделить из адреса отдельный столбец с улицой и использовать при обучении модели. Однако, есть протяженные улицы, распространяющиеся на целую ветку метро, на текущем этапе корректнее будет удалить данные по квартирам с пропуском метро"
   ]
  },
  {
   "cell_type": "markdown",
   "id": "9bf025e3-e578-4bef-a741-f9fb4097b708",
   "metadata": {},
   "source": [
    "### Адрес"
   ]
  },
  {
   "cell_type": "code",
   "execution_count": 11,
   "id": "4518732e-5bf6-41d1-b054-9992fafefd6c",
   "metadata": {},
   "outputs": [
    {
     "data": {
      "text/plain": [
       "array(['Москва, улица Новый Арбат, 27',\n",
       "       'Москва, переулок Плотников, 21С1',\n",
       "       'Москва, улица Новый Арбат, 15', ...,\n",
       "       'Москва, Солнцевский проспект, 26К1, ш. Боровское (4 км до МКАД), ш. Киевское (7 км до МКАД)',\n",
       "       'Москва, Солнцевский проспект, 19, ш. Боровское (5 км до МКАД), ш. Киевское (7 км до МКАД)',\n",
       "       'Москва, Боровский проезд, 11'], dtype=object)"
      ]
     },
     "execution_count": 11,
     "metadata": {},
     "output_type": "execute_result"
    }
   ],
   "source": [
    "df['Адрес'].unique() # Рассмотрим вид адреса"
   ]
  },
  {
   "cell_type": "code",
   "execution_count": 12,
   "id": "65434ab5-3a2b-4973-ad4e-64497a947577",
   "metadata": {},
   "outputs": [
    {
     "name": "stdout",
     "output_type": "stream",
     "text": [
      "0\n"
     ]
    }
   ],
   "source": [
    "print(df['Адрес'].isna().sum())"
   ]
  },
  {
   "cell_type": "markdown",
   "id": "dbaf3bc4-8664-4d69-91d2-ddbe577a2b5b",
   "metadata": {},
   "source": [
    "Оставляем значения как есть, пропусков нет"
   ]
  },
  {
   "cell_type": "markdown",
   "id": "6622ed27-b329-4d11-a128-9ec58231f25a",
   "metadata": {},
   "source": [
    "### Площадь"
   ]
  },
  {
   "cell_type": "code",
   "execution_count": 13,
   "id": "db6e87ea-34bb-4410-9c41-0c85b41a9585",
   "metadata": {},
   "outputs": [
    {
     "data": {
      "text/plain": [
       "array(['200.0/20.0', '198.0/95.0/18.0', '200.0/116.0/4.0', ..., '43.1',\n",
       "       '52.5/10.0', '90.0/48.2/15.5'], dtype=object)"
      ]
     },
     "execution_count": 13,
     "metadata": {},
     "output_type": "execute_result"
    }
   ],
   "source": [
    "df['Площадь, м2'].unique()"
   ]
  },
  {
   "cell_type": "code",
   "execution_count": 14,
   "id": "ca362d6e-564d-4a18-b062-2a095e1abdec",
   "metadata": {},
   "outputs": [
    {
     "name": "stdout",
     "output_type": "stream",
     "text": [
      "0\n"
     ]
    }
   ],
   "source": [
    "print(df['Площадь, м2'].isna().sum())"
   ]
  },
  {
   "cell_type": "markdown",
   "id": "107591e9-0ca2-41a0-9903-66420dca8d14",
   "metadata": {},
   "source": [
    "Нужно убрать площадь комнат, оставить только общую, преобразовать в тип данных float"
   ]
  },
  {
   "cell_type": "markdown",
   "id": "5c9d84bd-c51e-4f54-b78b-7367cfc86f7a",
   "metadata": {},
   "source": [
    "Видим, что большинство квартир в выборке - до 100 м2."
   ]
  },
  {
   "cell_type": "markdown",
   "id": "b36ee1b9-660d-43b4-9ad5-73358cfc2da0",
   "metadata": {},
   "source": [
    "### Дом"
   ]
  },
  {
   "cell_type": "code",
   "execution_count": 15,
   "id": "bb5d4b92-4d34-46f0-b251-01f55a8cae37",
   "metadata": {},
   "outputs": [
    {
     "data": {
      "text/plain": [
       "array(['5/16, Монолитный', '5/16, Монолитно-кирпичный', '5/16', ...,\n",
       "       '10/23, Монолитно-кирпичный', '12/23, Панельный', '12/25, Блочный'],\n",
       "      dtype=object)"
      ]
     },
     "execution_count": 15,
     "metadata": {},
     "output_type": "execute_result"
    }
   ],
   "source": [
    "df['Дом'].unique()"
   ]
  },
  {
   "cell_type": "code",
   "execution_count": 16,
   "id": "ae5a1da8-e246-4898-b171-4ff9c5f8f49c",
   "metadata": {},
   "outputs": [
    {
     "name": "stdout",
     "output_type": "stream",
     "text": [
      "0\n"
     ]
    }
   ],
   "source": [
    "print(df['Дом'].isna().sum())"
   ]
  },
  {
   "cell_type": "markdown",
   "id": "ca406004-adfa-4e17-8d90-6ae6faa3464f",
   "metadata": {},
   "source": [
    "На следующем этапе разобьем на три признака - этаж, этажность, тип дома. Гипотеза: все эти признаки будут влиять на качество работы модели."
   ]
  },
  {
   "cell_type": "markdown",
   "id": "37103450-2f6b-4dde-992b-59c9404bbc4c",
   "metadata": {},
   "source": [
    "### Парковка"
   ]
  },
  {
   "cell_type": "code",
   "execution_count": 17,
   "id": "8888fa1e-749b-42db-8b6c-f4d9707782b1",
   "metadata": {},
   "outputs": [
    {
     "data": {
      "text/plain": [
       "array(['подземная', nan, 'наземная', 'открытая', 'многоуровневая',\n",
       "       'на крыше'], dtype=object)"
      ]
     },
     "execution_count": 17,
     "metadata": {},
     "output_type": "execute_result"
    }
   ],
   "source": [
    "df['Парковка'].unique()"
   ]
  },
  {
   "cell_type": "code",
   "execution_count": 18,
   "id": "a1eb1e52-924c-41b4-8ca7-0ff03d6b7971",
   "metadata": {},
   "outputs": [
    {
     "name": "stdout",
     "output_type": "stream",
     "text": [
      "13417\n"
     ]
    }
   ],
   "source": [
    "print(df['Парковка'].isna().sum())"
   ]
  },
  {
   "cell_type": "markdown",
   "id": "7d522e50-583f-4fc7-9dbd-0a7e41338066",
   "metadata": {},
   "source": [
    "Нет данных по парковке более чем по половине квартир. Предполагаем, что там нет парковки, так и заполним."
   ]
  },
  {
   "cell_type": "markdown",
   "id": "58cb3236-b718-40c4-ab9e-cbb63ca88575",
   "metadata": {},
   "source": [
    "### Цена"
   ]
  },
  {
   "cell_type": "code",
   "execution_count": 19,
   "id": "fd66a86c-6b04-44c8-88eb-0bfb6b253681",
   "metadata": {},
   "outputs": [
    {
     "data": {
      "text/plain": [
       "array(['500000.0 руб./ За месяц, Залог - 500000 руб., Коммунальные услуги включены, Срок аренды - Длительный, Предоплата 1 мес',\n",
       "       '500000.0 руб./ За месяц, Залог - 500000 руб., Срок аренды - Длительный, Предоплата 1 мес',\n",
       "       '400000.0 руб./ За месяц, Залог - 400000 руб., Срок аренды - Длительный, Предоплата 1 мес',\n",
       "       ...,\n",
       "       '48000.0 руб./ За месяц, Залог - 40000 руб., Коммунальные услуги включены, Срок аренды - На несколько месяцев, Предоплата 1 мес',\n",
       "       '39000.0 руб./ За месяц, Залог - 40000 руб., Коммунальные услуги включены, Срок аренды - На несколько месяцев, Предоплата 1 мес',\n",
       "       '55000.0 руб./ За месяц, Залог - 50000 руб., Коммунальные услуги включены, Срок аренды - Длительный, Предоплата 2 мес'],\n",
       "      dtype=object)"
      ]
     },
     "execution_count": 19,
     "metadata": {},
     "output_type": "execute_result"
    }
   ],
   "source": [
    "df['Цена'].unique()"
   ]
  },
  {
   "cell_type": "code",
   "execution_count": 20,
   "id": "241e8c51-f4b1-4d18-a274-816ab6492af5",
   "metadata": {},
   "outputs": [
    {
     "name": "stdout",
     "output_type": "stream",
     "text": [
      "0\n"
     ]
    }
   ],
   "source": [
    "print(df['Цена'].isna().sum())"
   ]
  },
  {
   "cell_type": "markdown",
   "id": "ee18de2b-ae15-488e-8d66-181cc42a6399",
   "metadata": {},
   "source": [
    "Разобьем на несколько признаков на следующем этапе."
   ]
  },
  {
   "cell_type": "markdown",
   "id": "b0d44efc-a0db-4241-8e78-09794cf1ddfd",
   "metadata": {},
   "source": [
    "### Телефоны"
   ]
  },
  {
   "cell_type": "code",
   "execution_count": 21,
   "id": "10572eae-99c0-42cd-a5ff-7011522571cf",
   "metadata": {},
   "outputs": [
    {
     "data": {
      "text/plain": [
       "array(['+79166369231', '+79850608590', '+79672086536, +79099269384', ...,\n",
       "       '+79653825192', '+79660611965', '+79623641533'], dtype=object)"
      ]
     },
     "execution_count": 21,
     "metadata": {},
     "output_type": "execute_result"
    }
   ],
   "source": [
    "df['Телефоны'].unique()"
   ]
  },
  {
   "cell_type": "markdown",
   "id": "c7f217e1-578e-4330-b347-8e8a69d55ffb",
   "metadata": {},
   "source": [
    "Номера телефонов не будут влиять на качество модели. К удалению."
   ]
  },
  {
   "cell_type": "markdown",
   "id": "a1939dd7-dd69-4648-a70b-927a3c5fb7d0",
   "metadata": {},
   "source": [
    "### Описание"
   ]
  },
  {
   "cell_type": "code",
   "execution_count": 22,
   "id": "dcea3883-e665-4ccf-a5b5-a6dbcbd6bdd4",
   "metadata": {},
   "outputs": [
    {
     "data": {
      "text/plain": [
       "array(['Без комиссии для нанимателя! Бонус коллегам 125.000 руб! Предлагается роскошная четырехкомнатная квартира в ЖК Новый Арбат. \\nКвартира укомплектована мебелью и техникой премиум-класса. Кондиционирование, теплые полы. \\n\\nФункциональная планировка: изолированная кухня, гостиная, три спальни, два совмещенных санузла с ванной и душем, гардеробная, прихожая с гостевым санузлом и постирочной. \\n\\nДом находится под круглосуточной охраной. В подземном паркинге в стоимость включено 1 м/м. Рядом есть вся необходимая инфраструктура., 26 фото',\n",
       "       'Лот 93107. Елена Анисимова.\\n\\nБонус агенту 50%.\\n\\nБез комиссии для арендатора.\\n\\nСтильная 4-комнатная квартира в элитном доме 5 / 16 этаж. Спален: 3, санузлов: 3. Общая площадь: 198 кв.м. Комнаты: 25-25-20-25 кв.м. Кухня: 18 кв.м. Высота потолков 3.5 м. Ремонт в уникальном авторском стиле. Квартира полностью с мебелью, вывоз обсуждается. Огороженная, охраняемая территория. Подземный паркинг, машиноместо входит в стоимость. Окна выходят на обе стороны. Есть гардеробная комната. В наличии: посудомоечная машина, холодильник, кондиционер, бойлер, душевая кабина, ванна, постирочная комната, стиральная машина, сушильная машина, подогрев полов. Телевизор, кабельное тв, высокоскоростной интернет. Можно со взрослыми детьми. Возможна оплата по безналу.\\n\\nЕсть презентации в pdf на русском или английском для партнеров., Возможен торг, Взаимная симпатия, 19 фото',\n",
       "       'ID 36380:  Шикарная 4-х км. квартира в ЖК \"Новый Арбат 27\" в престижном районе Арбата. Дорогостоящий ремонт в легком классическом стиле. Мебель от элитных итальянский фабрик Arkeos, Nino Galimberti, Bizzotto.  Установлены кондиционеры, бойлер, Интернет и ТВ, теплые полы. Общая площадь - 200 кв.м.    Функциональная планировка  с 3 спальнями, множество встроенных шкафов, гардеробная комната, постирочная, полностью оборудованная кухня, просторная гостиная  и детская комната, 3 ванных комнаты.   Потрясающие виды на Белый дом и Новый Арбат. Дом с охраной и подземным паркингом. Квартира предлагается с 2мя машино - местами в подземном паркинге. Развитая инфраструктура района с кафе, магазинами, салонами красоты. Можно с детьми. Без животных.   \\n        Без комисии для арендаторов\\n        Работаем с партнерами\\n        Действуем в интересах клиентов.\\n        Please feel free to contact Savills to get detailed information or to set up a viewing! 24/7 help desk service with English-speaking opera ..., 17 фото',\n",
       "       ...,\n",
       "       'Рассматриваются квартиранты только славяне и только на длительный срок.\\nБез животных.\\nИдеальная квартира для двоих. Одна комната изолированная, вторая объединена с кухонной зоной.\\nСдается очень уютная и светлая двухкомнатная квартира в экологически чистом районе Москвы. 5 минут пешком до станции метро Солнцево, либо до ж/д станции \"Солнечная\". \\nНесомненным плюсом является отсутствие соседей сверху. Всегда есть парковочные места возле дома. В районе много зелени, через дорогу зона отдыха с прудом, фитнес-центр. В шаговой доступности Мещерский парк. В шаговой доступности имеется несколько школ, детских садов, торгово-развлекательных центров. \\nКвартира очень теплая. Сделан качественный капитальный ремонт в теплых тонах. Пластиковые стеклопакеты на окнах, балкон холодный, застеклен. \\nНа данный момент квартира сдается без спальной мебели (без дивана и кровати) и телевизора.\\nМебель:\\n- кухонный гарнитур\\n- шкаф для верхней одежды\\n- шкаф в спальне\\nКомплект техники:\\n- встраиваемые холодильник и  ..., 21 фото',\n",
       "       'Двухкомнатная уютная квартира с видом во внутренний зеленый двор.\\nПрихожая со встроенным шкафом. \\nКухня - гостиная (20 кв. м) оборудованная всей техникой( электрическая плита, посудомойка, холодильник, чайник).\\nСпальня (15 кв. м.)с выходом на лоджию (4.5 кв. м) с мебелью. При спальне есть гардеробная.\\nСанузел совмещенный. Гостиная и спальня оборудована кондиционерами Daikin.\\nПри выходе из подъезда через дорогу парк с прогулочными дорожкам и освещением. Рядом с домом два магазина пятерочка. В доме, в соседнем подъезде тренажёрный зал. \\nПарковаться можно перед подъездами и во дворе. Есть две платные парковки. \\nДо метро Солнцево 7-10 мин. пешком. \\nСдается на длительный срок. В стоимость аренды входит коммунальные платежи без счетчиков воды и света. Залог в размере 55000 руб. Оплата за первый и последний месяц при заключении договора., 25 фото',\n",
       "       'Сдается просторная двухкомнатная квартира ВПЕРВЫЕ! КОММУНАЛЬНЫЕ ПЛАТЕЖИ СКИДКА 50%. Квартира находится в шаговой доступности от двух станций метро: Говорово и Солнцево. Имеется все необходимое для жизни! Кухня оснащена всем жизненно важным для комфортного быта: большой вместительный холодильник, посудомоечная машина, измельчитель для отходов, индукционная плита, духовка, посуда. В квартире в каждой комнате есть кондиционер. В ванной установлен бойлер, за счет чего можно не переживать за сезонное отключение горячей воды. Так же кроме вместительных шкафов для вещей имеется кладовая/гардеробная! Просторная лоджия с большими окнами выходит в тихий и спокойный двор. Рядом с домом: несколько продуктовых магазинов, школы, детские сады и парк с прудом. Удобный съезд на Боровское шоссе. Удобная транспортная доступность до ЛУЧШИХ ВУЗОВ СТРАНЫ: РАНХИГС, МГИМО, РУДН, МГУ!, 16 фото'],\n",
       "      dtype=object)"
      ]
     },
     "execution_count": 22,
     "metadata": {},
     "output_type": "execute_result"
    }
   ],
   "source": [
    "df['Описание'].unique()"
   ]
  },
  {
   "cell_type": "code",
   "execution_count": 23,
   "id": "3c1b7645-40c3-4778-8d61-20107ff0a1db",
   "metadata": {},
   "outputs": [
    {
     "name": "stdout",
     "output_type": "stream",
     "text": [
      "0\n"
     ]
    }
   ],
   "source": [
    "print(df['Описание'].isna().sum())"
   ]
  },
  {
   "cell_type": "markdown",
   "id": "140ac1a6-613c-4bed-874c-435233512f33",
   "metadata": {},
   "source": [
    "Модель обучения может идти по тексту, оставим как есть. Описание есть у всех квартир в выборке."
   ]
  },
  {
   "cell_type": "markdown",
   "id": "cc1af71c-9282-4347-ba35-54bc71c02b8c",
   "metadata": {},
   "source": [
    "### Ремонт"
   ]
  },
  {
   "cell_type": "code",
   "execution_count": 24,
   "id": "69706c89-0b23-489f-a937-02fc88650779",
   "metadata": {},
   "outputs": [
    {
     "data": {
      "text/plain": [
       "array(['Дизайнерский', 'Евроремонт', 'Косметический', nan, 'Без ремонта'],\n",
       "      dtype=object)"
      ]
     },
     "execution_count": 24,
     "metadata": {},
     "output_type": "execute_result"
    }
   ],
   "source": [
    "df['Ремонт'].unique()"
   ]
  },
  {
   "cell_type": "code",
   "execution_count": 25,
   "id": "a1559c57-2faa-4f5c-9f70-a41b77875044",
   "metadata": {},
   "outputs": [
    {
     "name": "stdout",
     "output_type": "stream",
     "text": [
      "0\n"
     ]
    }
   ],
   "source": [
    "print(df['Описание'].isna().sum())"
   ]
  },
  {
   "cell_type": "markdown",
   "id": "5697dba9-ef03-40c9-9232-1d435f46907f",
   "metadata": {},
   "source": [
    "Пропуски по ремонту могут быть разными по смыслу. Заменим на отсутствие данных (н/д). Гипотеза: ремонт может существенно влиять на цену"
   ]
  },
  {
   "cell_type": "markdown",
   "id": "23101359-9d26-4788-9d25-6181355efaa6",
   "metadata": {},
   "source": [
    "### Площадь комнат, м2"
   ]
  },
  {
   "cell_type": "code",
   "execution_count": 26,
   "id": "12dc3285-5a07-467e-88e7-f212c811e411",
   "metadata": {},
   "outputs": [
    {
     "data": {
      "text/plain": [
       "array([nan, '25 25 20 25', '14-42-20-19', ..., '22-16-30', '32+13,6-18,7',\n",
       "       '26,2+15,5-22,0'], dtype=object)"
      ]
     },
     "execution_count": 26,
     "metadata": {},
     "output_type": "execute_result"
    }
   ],
   "source": [
    "df['Площадь комнат, м2'].unique()"
   ]
  },
  {
   "cell_type": "markdown",
   "id": "2a912416-a5bc-4e8f-9af5-603376428061",
   "metadata": {},
   "source": [
    "Данные не могут быть использованы, поскольку имеют разный формат перечисления, требуют проверки на соответствие общей площади. Возможны ошибки в указании площади (0 м2, 2 м2), есть дробные части через запятую, есть перечисления через запятую."
   ]
  }
 ],
 "metadata": {
  "kernelspec": {
   "display_name": "Python 3 (ipykernel)",
   "language": "python",
   "name": "python3"
  },
  "language_info": {
   "codemirror_mode": {
    "name": "ipython",
    "version": 3
   },
   "file_extension": ".py",
   "mimetype": "text/x-python",
   "name": "python",
   "nbconvert_exporter": "python",
   "pygments_lexer": "ipython3",
   "version": "3.10.14"
  }
 },
 "nbformat": 4,
 "nbformat_minor": 5
}
